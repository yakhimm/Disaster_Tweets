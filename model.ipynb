{
  "cells": [
    {
      "cell_type": "code",
      "execution_count": null,
      "metadata": {
        "colab": {
          "base_uri": "https://localhost:8080/"
        },
        "id": "PYLjUjE4xAJu",
        "outputId": "4f96087e-ddb3-4350-c912-d3141ad3e4fa"
      },
      "outputs": [],
      "source": [
        "from google.colab import drive\n",
        "drive.mount('/content/drive')"
      ]
    },
    {
      "cell_type": "code",
      "execution_count": null,
      "metadata": {
        "colab": {
          "base_uri": "https://localhost:8080/"
        },
        "id": "gJ5_4f9LxSqH",
        "outputId": "0b737cc0-503b-44b6-d976-20edb79f038b"
      },
      "outputs": [],
      "source": [
        "%cd /content/drive/My Drive/Disaster_Tweets"
      ]
    },
    {
      "cell_type": "code",
      "execution_count": null,
      "metadata": {
        "colab": {
          "base_uri": "https://localhost:8080/"
        },
        "id": "T8YSezTbx3rC",
        "outputId": "b2ef95fd-6695-403a-ae47-55b72f892e2b"
      },
      "outputs": [],
      "source": [
        "!pip install -r requirements.txt\n"
      ]
    },
    {
      "attachments": {},
      "cell_type": "markdown",
      "metadata": {
        "id": "w44cK8nrAu8D"
      },
      "source": [
        "# FEATURE ENGINEERING AND MODELING\n",
        "\n",
        "Quá trình tạo đặc trưng cho mỗi dòng dữ liệu text.\n",
        "\n",
        "Lựa chọn và huấn luyện mô hình để giải quyết bài toán."
      ]
    },
    {
      "cell_type": "code",
      "execution_count": null,
      "metadata": {
        "id": "Xm3L6Aurw_nX"
      },
      "outputs": [],
      "source": [
        "import os\n",
        "import pandas as pd\n",
        "import tensorflow as tf\n",
        "from tensorflow import keras\n",
        "import numpy as np\n",
        "import matplotlib.pyplot as plt\n",
        "import seaborn as sns\n",
        "import sklearn\n",
        "from sklearn.model_selection import train_test_split"
      ]
    },
    {
      "cell_type": "code",
      "execution_count": null,
      "metadata": {
        "colab": {
          "base_uri": "https://localhost:8080/"
        },
        "id": "Mr3_k_zDYC-4",
        "outputId": "d391b76b-8c98-46f1-a914-e1a1648d5b48"
      },
      "outputs": [],
      "source": [
        "%cd /content/drive/My Drive/Disaster_Tweets/src"
      ]
    },
    {
      "attachments": {},
      "cell_type": "markdown",
      "metadata": {
        "id": "mXrp22SlTYfn"
      },
      "source": [
        "Đọc dữ liệu đã được tiền xử lý: `light_pre_train.csv` và `light_pre_test.csv` vào 2 dataframe: `train_df` và `test_df`"
      ]
    },
    {
      "cell_type": "code",
      "execution_count": null,
      "metadata": {
        "id": "e4ejO9Lew_na"
      },
      "outputs": [],
      "source": [
        "train_df = pd.read_csv('./preprocessing/light_pre_train.csv')\n",
        "test_df = pd.read_csv('./preprocessing/light_pre_test.csv')"
      ]
    },
    {
      "attachments": {},
      "cell_type": "markdown",
      "metadata": {
        "id": "ijwpTt_1UkPN"
      },
      "source": [
        "## 1. Chuẩn bị dữ liệu"
      ]
    },
    {
      "attachments": {},
      "cell_type": "markdown",
      "metadata": {
        "id": "Co7yO2AMUogh"
      },
      "source": [
        "### 1.1 Tổng quan:\n",
        "- Chia dữ liệu trên `train_df` theo tỉ lệ `90:10` tương ứng để fine tune trên mô hình BERT với 70% dữ liệu và đánh giá mô hình trên 10% dữ liệu còn lại.\n",
        "\n",
        "- Sao chép 100% dữ liệu trên `train_df` sang `train_df_shuffle`, sau đó xáo trộn 100% dữ liệu đó, và tiếp tục fine tune với mô hình BERT đã được fine tuning trước đó, trước khi nộp bài đánh giá trên kaggle.\n",
        "\n",
        "- Dùng mô hình pretrained `bert-base-uncased` (tiếng anh) và module BertTokenizer từ thư viện `transformer` để tokenize văn bản(text) thành vector tương ứng. Thực hiện trên cả train_df, test_df và train_df_shuffle.\n",
        "\n",
        "- Dựa vào số lượng token (từ) được tách ra (tokenize) từ các câu trên train_df, để lựa chọn `max_length` - số chiều của vector embedding khi fine tune bằng mô hình BERT.\n"
      ]
    },
    {
      "attachments": {},
      "cell_type": "markdown",
      "metadata": {
        "id": "XckRDrFXicF4"
      },
      "source": [
        "### 1.2 Sao chép và xáo trộn dữ liệu"
      ]
    },
    {
      "attachments": {},
      "cell_type": "markdown",
      "metadata": {
        "id": "-0d4ftRahkkM"
      },
      "source": [
        "Sao chép dữ liệu `train_df` sang `train_df_shuffle` và xáo xộn nó."
      ]
    },
    {
      "cell_type": "code",
      "execution_count": null,
      "metadata": {
        "id": "qTl8zH-Yhl32"
      },
      "outputs": [],
      "source": [
        "train_df_shuffle = train_df.sample(frac=1, random_state=12)"
      ]
    },
    {
      "cell_type": "code",
      "execution_count": null,
      "metadata": {
        "colab": {
          "base_uri": "https://localhost:8080/",
          "height": 424
        },
        "id": "W6CJWVTbh10P",
        "outputId": "7c1bd620-7cf3-4db0-e9fd-ccb165ff233d"
      },
      "outputs": [],
      "source": [
        "train_df_shuffle"
      ]
    },
    {
      "attachments": {},
      "cell_type": "markdown",
      "metadata": {
        "id": "I4wn_QzbCK_t"
      },
      "source": [
        "Lấy text và target trong `train_df_shuffle`"
      ]
    },
    {
      "cell_type": "code",
      "execution_count": null,
      "metadata": {
        "id": "lXVZsTtZnLj8"
      },
      "outputs": [],
      "source": [
        "all_train_labels = train_df_shuffle.target\n",
        "all_train_text = train_df_shuffle.text"
      ]
    },
    {
      "attachments": {},
      "cell_type": "markdown",
      "metadata": {
        "id": "rm8YE81kh4Li"
      },
      "source": [
        "Lấy ra cột `text`, `target` trên `train_df` và cột `text` trên `test_df`"
      ]
    },
    {
      "cell_type": "code",
      "execution_count": null,
      "metadata": {
        "id": "xFaAvWXkh31m"
      },
      "outputs": [],
      "source": [
        "train_text = train_df.text\n",
        "train_labels = train_df.target\n",
        "test_text = test_df.text"
      ]
    },
    {
      "attachments": {},
      "cell_type": "markdown",
      "metadata": {
        "id": "fEL5I4alikjS"
      },
      "source": [
        "### 1.3 Tokenine văn bản và lựa chọn siêu tham số max_length"
      ]
    },
    {
      "attachments": {},
      "cell_type": "markdown",
      "metadata": {
        "id": "SBCFvAD1hZqC"
      },
      "source": [
        "Cài đặt thư viện transformer"
      ]
    },
    {
      "cell_type": "code",
      "execution_count": null,
      "metadata": {
        "colab": {
          "base_uri": "https://localhost:8080/"
        },
        "id": "UlWr0taXhX0U",
        "outputId": "791f0e5e-1d0a-4d40-81f9-77f38acf8949"
      },
      "outputs": [],
      "source": [
        "!pip install transformers"
      ]
    },
    {
      "attachments": {},
      "cell_type": "markdown",
      "metadata": {
        "id": "x99ENmdWhiMl"
      },
      "source": [
        "`BertTokenizer`: dùng để token văn bản thành vector\n"
      ]
    },
    {
      "cell_type": "code",
      "execution_count": null,
      "metadata": {
        "id": "HW-aX8rUhg_d"
      },
      "outputs": [],
      "source": [
        "from transformers import BertTokenizer,TFBertForSequenceClassification"
      ]
    },
    {
      "attachments": {},
      "cell_type": "markdown",
      "metadata": {
        "id": "2Oc1pz_ljCk7"
      },
      "source": [
        "Dùng pretrained `bert-base-uncased` để tokenize văn bản thành vector."
      ]
    },
    {
      "cell_type": "code",
      "execution_count": null,
      "metadata": {
        "colab": {
          "base_uri": "https://localhost:8080/",
          "height": 113,
          "referenced_widgets": [
            "c3be1a8736f54bc4aa9b97f32ec25fba",
            "b45cf6a163834c0688a93542dd2ff6e7",
            "69f9b25b3e1e47f5a1fde4d88e22285e",
            "ffda4b2962e14136a506d56ac3edc7e2",
            "956a30c914004804816cc6da9407e779",
            "100056515adc49c2b2015f26accf2c07",
            "7d81ff2780924d14be8557a87c57d4e9",
            "db2bda44c8c24bb282364a04b023fe80",
            "ca58d4f7ca154094911486d04ae17e54",
            "b57d7893261249e5b8d7cb8cb425b5f0",
            "265ac7bc69f04a87a1eea7c21d6d5e2b",
            "3153224946954c5d9987af647391b158",
            "0e423a46ac694a2bba68b8c29b49362e",
            "aeebd7f8a09543d09234577e5af5adc8",
            "2f1ffd21b75640d7b75ba3373c4d2add",
            "1bfc8eb35c1d4678ab225aeb4a2c8370",
            "22a9a2bad0fb417987047673395e603c",
            "991bc42e1be64afdaa7a5d24e3fb270c",
            "ec3eda03fcbd472493bfd2c9c84dbc4b",
            "9ef71045d27a4e12ba69b96faf7b893d",
            "f60e7c973fd74f889d7a6ae958de2407",
            "8f342c0383964cd8ba61dd61542749ea",
            "3f7de111a319497c93869a824f0a7fe5",
            "7f5b421cf0014e3e9b719f8e3ed33bbf",
            "b26eb52ae8ed473dbe42f2e1c03f28fb",
            "9e906a4940da4505950aa3fe0e8cbf7a",
            "aaec88ecb36b442ab7d591a5010550c6",
            "d53a763ad6394cf98a715667974f1408",
            "80b2d40acfde46e6b96a344ce6d09e41",
            "0755e5c3ffa9436eac65538519065b58",
            "8a839d5ba8d44ff8b3f1dbdd8d99e2b8",
            "86aea03d0f864a6ea2eb30f723492b96",
            "83589ab979af46fc88cc447ab0b7966e"
          ]
        },
        "id": "XP9AiZ2IWnxB",
        "outputId": "df17e35d-1fd2-4df1-e089-c4d049669315"
      },
      "outputs": [],
      "source": [
        "PRE_TRAINED_MODEL_NAME = 'bert-base-uncased'\n",
        "tokenizer = BertTokenizer.from_pretrained(PRE_TRAINED_MODEL_NAME)"
      ]
    },
    {
      "attachments": {},
      "cell_type": "markdown",
      "metadata": {
        "id": "nZvW36zXjOjG"
      },
      "source": [
        "Tokenize trên `train_text`"
      ]
    },
    {
      "cell_type": "code",
      "execution_count": null,
      "metadata": {
        "id": "vmjBuzBfWs8W"
      },
      "outputs": [],
      "source": [
        "token_lens = []\n",
        "for txt in list(train_text):\n",
        "    tokens = tokenizer.encode(txt, max_length=512, truncation=True)\n",
        "    token_lens.append(len(tokens))"
      ]
    },
    {
      "cell_type": "code",
      "execution_count": null,
      "metadata": {
        "colab": {
          "base_uri": "https://localhost:8080/"
        },
        "id": "6JxiSMBujWA3",
        "outputId": "1a6566c5-c526-4ae6-9a00-f0060d60273a"
      },
      "outputs": [],
      "source": [
        "tokenizer.encode(\"Hoang Duc Nhat\", max_length=512, truncation=True)"
      ]
    },
    {
      "attachments": {},
      "cell_type": "markdown",
      "metadata": {
        "id": "R7FobXHRkVwA"
      },
      "source": [
        "Ở đây max_length = 512 sẽ giới hạn là độ dài của mỗi câu. Nếu câu nào có độ dài lớn hơn 512, thì sẽ cắt bỏ (truncation = True). Tuy nhiên, toàn bộ các câu trong bộ corpus không tồn tại câu nào có độ dài lớn như vậy. Ta thử xem phân phối của chúng trên tập train."
      ]
    },
    {
      "cell_type": "code",
      "execution_count": null,
      "metadata": {
        "colab": {
          "base_uri": "https://localhost:8080/",
          "height": 552
        },
        "id": "MtC474J6jXGr",
        "outputId": "d643fede-5a0a-4dee-b67b-35de83dc577a"
      },
      "outputs": [],
      "source": [
        "sns.displot(token_lens)\n",
        "plt.xlim([0, 100])\n",
        "plt.xlabel('Số lượng token', fontweight = \"bold\")\n",
        "plt.ylabel('Tần suất', fontweight = \"bold\")\n",
        "plt.title(\"Mối quan hệ giữa độ dài của các câu theo từ và tần suất của nó\", fontweight = \"bold\")\n",
        "plt.show()"
      ]
    },
    {
      "attachments": {},
      "cell_type": "markdown",
      "metadata": {
        "id": "oxwJfXqvkpnt"
      },
      "source": [
        "Dựa vào đồ thị, ta sẽ chọn siêu tham số `max_lengh` = 45 hoặc 50 hoặc 64 để train mô hình."
      ]
    },
    {
      "attachments": {},
      "cell_type": "markdown",
      "metadata": {
        "id": "IXR8FeFyKj95"
      },
      "source": [
        "## 2. Feature Engineering\n",
        "\n",
        "Chuyển text thành vector tương ứng trong bộ vocabulary lấy từ pretrained bert-base-uncased"
      ]
    },
    {
      "cell_type": "code",
      "execution_count": null,
      "metadata": {
        "id": "hu1NNpXJ-x-Q"
      },
      "outputs": [],
      "source": [
        "MAX_SEQ_LEN = 50"
      ]
    },
    {
      "cell_type": "code",
      "execution_count": null,
      "metadata": {
        "id": "z3GIoRFW-rxW"
      },
      "outputs": [],
      "source": [
        "def bert_tokenizer(text):\n",
        "    encoding = tokenizer.encode_plus(\n",
        "    text,\n",
        "    max_length=MAX_SEQ_LEN,\n",
        "    truncation=True,\n",
        "    add_special_tokens=True, # Add '[CLS]' and '[SEP]'\n",
        "    return_token_type_ids=False,\n",
        "    padding='max_length',\n",
        "    return_attention_mask=True,\n",
        "    return_tensors='pt',  # Return PyTorch tensors\n",
        "    )\n",
        "    return encoding['input_ids'][0], encoding['attention_mask'][0]"
      ]
    },
    {
      "cell_type": "code",
      "execution_count": null,
      "metadata": {
        "colab": {
          "base_uri": "https://localhost:8080/"
        },
        "id": "j_gLxWa6_YcJ",
        "outputId": "35e65d9b-6858-4bc0-9ece-cc9b00ed3c10"
      },
      "outputs": [],
      "source": [
        "print(\"Lấy ví dụ, tạo đặc trưng cho chuỗi: Hoang Duc Nhat Minh\")\n",
        "bert_tokenizer(\"Hoang Duc Nhat Minh\")"
      ]
    },
    {
      "attachments": {},
      "cell_type": "markdown",
      "metadata": {
        "id": "CDal0sJCl3nI"
      },
      "source": [
        "Chuyển text thành vector trên tập `train_text`, và lưu vào `train_tokenized_list`"
      ]
    },
    {
      "cell_type": "code",
      "execution_count": null,
      "metadata": {
        "id": "hErWEBc8_M-U"
      },
      "outputs": [],
      "source": [
        "train_tokenized_list = []\n",
        "train_attn_mask_list = []\n",
        "for text in list(train_text):\n",
        "    tokenized_text, attn_mask = bert_tokenizer(text)\n",
        "    train_tokenized_list.append(tokenized_text.numpy())\n",
        "    # train_attn_mask_list.append(attn_mask.numpy())"
      ]
    },
    {
      "attachments": {},
      "cell_type": "markdown",
      "metadata": {
        "id": "eZaioYu7mt4F"
      },
      "source": [
        "Chuyển text thành vector trên tập `test_text`, và lưu vào `test_tokenized_list`."
      ]
    },
    {
      "cell_type": "code",
      "execution_count": null,
      "metadata": {
        "id": "7H8EpLHT_iBA"
      },
      "outputs": [],
      "source": [
        "# test data tokenization for testing\n",
        "test_tokenized_list = []\n",
        "test_attn_mask_list = []\n",
        "for text in list(test_text):\n",
        "    tokenized_text, attn_mask = bert_tokenizer(text)\n",
        "    test_tokenized_list.append(tokenized_text.numpy())\n",
        "    # test_attn_mask_list.append(attn_mask.numpy())"
      ]
    },
    {
      "attachments": {},
      "cell_type": "markdown",
      "metadata": {
        "id": "1W2O1-W4CZKY"
      },
      "source": [
        "Chuyển text thành vector trên tập `all_train_text`, và lưu vào `test_tokenised_text_df`"
      ]
    },
    {
      "cell_type": "code",
      "execution_count": null,
      "metadata": {
        "id": "wKpzNAWt6ZMS"
      },
      "outputs": [],
      "source": [
        "all_train_tokenized_list = []\n",
        "for text in list(all_train_text):\n",
        "    tokenized_text, attn_mask = bert_tokenizer(text)\n",
        "    all_train_tokenized_list.append(tokenized_text.numpy())"
      ]
    },
    {
      "attachments": {},
      "cell_type": "markdown",
      "metadata": {
        "id": "uljxp__NCh1t"
      },
      "source": [
        "Chuyển `train_tokenized_list`, `all_train_tokenized_list` và `test_tokenized_list` sang dạng dataframe"
      ]
    },
    {
      "cell_type": "code",
      "execution_count": null,
      "metadata": {
        "id": "m8bXWtsSAX7u"
      },
      "outputs": [],
      "source": [
        "train_tokenised_text_df = pd.DataFrame(train_tokenized_list)\n",
        "all_train_tokenised_text_df = pd.DataFrame(all_train_tokenized_list)\n",
        "test_tokenised_text_df = pd.DataFrame(test_tokenized_list)"
      ]
    },
    {
      "attachments": {},
      "cell_type": "markdown",
      "metadata": {
        "id": "Rex0ZdoCCs3C"
      },
      "source": [
        "Từ `train_tokenized_text_df` chia thành 90% `X_train` và 10% `X_val`"
      ]
    },
    {
      "cell_type": "code",
      "execution_count": null,
      "metadata": {
        "id": "L-AlaOOEAiLs"
      },
      "outputs": [],
      "source": [
        "X_train, X_val, y_train, y_val = train_test_split(train_tokenised_text_df, train_labels, test_size=0.1, random_state=4)"
      ]
    },
    {
      "cell_type": "code",
      "execution_count": null,
      "metadata": {
        "colab": {
          "base_uri": "https://localhost:8080/"
        },
        "id": "_N_6X8YYFQOp",
        "outputId": "ac26959f-534b-4aa7-a7e1-7cd5a54ba571"
      },
      "outputs": [],
      "source": [
        "print(f'X_train input shape {X_train.shape}, train label shape {y_train.shape}')\n",
        "print(f'X_val input shape {X_val.shape}, validation label shape {y_val.shape}')"
      ]
    },
    {
      "attachments": {},
      "cell_type": "markdown",
      "metadata": {
        "id": "CNLTJGkHFqLw"
      },
      "source": [
        "## 2. Fine tune trên mô hình BERT"
      ]
    },
    {
      "attachments": {},
      "cell_type": "markdown",
      "metadata": {
        "id": "1nyWw_1bDu4j"
      },
      "source": [
        "### 2.1 Tổng quan\n",
        "Giai đoạn 1: Fine tune với mô hình BERT trên `X_train` (90% dữ liệu) và đánh giá trên `X_val` (10%) với 2 epoch.\n",
        "\n",
        "Giai đoạn 2: Tiếp tục fine tune trên `all_train_text` với cấu hình: learning rate 5e-6, 1 epoch.\n",
        "\n",
        "Các siêu tham số (hyperparameter) được dùng để tuning:\n",
        "- `Learning rate` ở cả 2 giai đoạn.\n",
        "- `max_length`: số lượng chiều của vector feature embedding, với các giá trị 45, 50, 55, 64.\n"
      ]
    },
    {
      "attachments": {},
      "cell_type": "markdown",
      "metadata": {
        "id": "ISpEE_XpKHmJ"
      },
      "source": [
        "### 2.2 Xây dựng hàm đánh giá mô hình"
      ]
    },
    {
      "cell_type": "code",
      "execution_count": null,
      "metadata": {
        "id": "5OF_f_F6KL45"
      },
      "outputs": [],
      "source": [
        "from sklearn.metrics import classification_report\n",
        "from sklearn.metrics import accuracy_score\n",
        "from sklearn.metrics import roc_curve\n",
        "from sklearn.metrics import auc"
      ]
    },
    {
      "cell_type": "code",
      "execution_count": null,
      "metadata": {
        "id": "UwckMXLJKMXl"
      },
      "outputs": [],
      "source": [
        "# Đánh giá mô hình\n",
        "def eval_model(predictions):\n",
        "    print(accuracy_score(y_val, predictions))\n",
        "    # Compute fpr, tpr, thresholds and roc auc\n",
        "    fpr, tpr, thresholds = roc_curve(np.array(y_val), np.array(predictions))\n",
        "    roc_auc = auc(fpr, tpr)\n",
        "\n",
        "    # Plot ROC curve\n",
        "    plt.plot(fpr, tpr, label='ROC curve (area = %0.3f)' % roc_auc)\n",
        "    plt.plot([0, 1], [0, 1], 'k--')  # random predictions curve\n",
        "    plt.xlim([0.0, 1.0])\n",
        "    plt.ylim([0.0, 1.0])\n",
        "    plt.xlabel('False Positive Rate or (1 - Specifity)')\n",
        "    plt.ylabel('True Positive Rate or (Sensitivity)')\n",
        "    plt.title('Receiver Operating Characteristic')\n",
        "    plt.legend(loc=\"lower right\")\n",
        "    plt.show()\n",
        "    print(classification_report(y_val, np.array(predictions), target_names=[\"not disaster\", \"disaster\"]))"
      ]
    },
    {
      "attachments": {},
      "cell_type": "markdown",
      "metadata": {
        "id": "BfHUz60AHqCW"
      },
      "source": [
        "## 3.3 Chi tiết"
      ]
    },
    {
      "attachments": {},
      "cell_type": "markdown",
      "metadata": {
        "id": "sDjC8vFlHtL7"
      },
      "source": [
        "#### 3.3.1 Giai đoạn 1: \n",
        "\n",
        "Fine tune với mô hình BERT trên `X_train` (90% dữ liệu) và đánh giá trên `X_val` (10%)"
      ]
    },
    {
      "attachments": {},
      "cell_type": "markdown",
      "metadata": {
        "id": "65E9FnVBHy2N"
      },
      "source": [
        "Lấy số lượng class của dữ liệu"
      ]
    },
    {
      "cell_type": "code",
      "execution_count": null,
      "metadata": {
        "colab": {
          "base_uri": "https://localhost:8080/"
        },
        "id": "Jl-eLRDOFrl_",
        "outputId": "5839552a-7571-4088-a84c-1274673b2a47"
      },
      "outputs": [],
      "source": [
        "num_classes = len(train_labels.unique())\n",
        "num_classes"
      ]
    },
    {
      "attachments": {},
      "cell_type": "markdown",
      "metadata": {
        "id": "wih66H4lH6z6"
      },
      "source": [
        "Gọi mô hình pretrained `TFBertForSequenceClassification`\n"
      ]
    },
    {
      "cell_type": "code",
      "execution_count": null,
      "metadata": {
        "id": "o9u4nFYGIL4n"
      },
      "outputs": [],
      "source": [
        "from transformers import TFBertForSequenceClassification"
      ]
    },
    {
      "cell_type": "code",
      "execution_count": null,
      "metadata": {
        "colab": {
          "base_uri": "https://localhost:8080/",
          "height": 414,
          "referenced_widgets": [
            "8679e639a6924e83809b487a9b5429e0",
            "14f454d0814d46e8aa922e644eeaf946",
            "aeab1e99bca3405e94fc28ccfb392cb8",
            "4e06a17343d140c89b2ca103b40a9cb5",
            "e40c9c7a1b6d4e7e8a787c6453e4a4c3",
            "2c4ceb27476447b9a05e76f26c30ce14",
            "3d9a106a64144a988f34e31fe1eac6cb",
            "73c900e6331a430894e2726bccbe79b0",
            "c0a8cfa6666b4fc98c69c0167870ef57",
            "9107bd3d59c6493895cb3abd4a3e298a",
            "4f7373f213b74bd1aad4f91bf194084c"
          ]
        },
        "id": "5UBRg_bkH_13",
        "outputId": "25d4fb3e-a83e-4587-c40c-3c8b593a1d3d"
      },
      "outputs": [],
      "source": [
        "bertClassifier = TFBertForSequenceClassification.from_pretrained('bert-base-uncased', num_labels=num_classes)\n",
        "print('\\nBert Model', bertClassifier.summary())"
      ]
    },
    {
      "attachments": {},
      "cell_type": "markdown",
      "metadata": {
        "id": "BCh56QHyIaKO"
      },
      "source": [
        "Cấu hình hàm loss, optimizer, metric\n",
        "- Hàm loss: cross entropy\n",
        "- Optimizer: Adam\n",
        "- Callback ModelCheckpoint: lưu mô hình\n",
        "- Learning rate: 1e-5"
      ]
    },
    {
      "cell_type": "code",
      "execution_count": null,
      "metadata": {
        "id": "bTUxBWKGFwQH"
      },
      "outputs": [],
      "source": [
        "checkpoint_path = \"./models/my_bert.ckpt\"\n",
        "checkpoint_dir = os.path.dirname(checkpoint_path)\n",
        "model_callback = tf.keras.callbacks.ModelCheckpoint(filepath=checkpoint_path,\n",
        "                                                 save_best_only=True,\n",
        "                                                 verbose=1)\n",
        "\n",
        "\n",
        "\n",
        "loss = tf.keras.losses.SparseCategoricalCrossentropy(from_logits=True)\n",
        "metric = tf.keras.metrics.SparseCategoricalAccuracy('accuracy')\n",
        "optimizer = tf.keras.optimizers.Adam(learning_rate=2e-5,epsilon=1e-08)\n",
        "\n",
        "bertClassifier.compile(loss=loss,optimizer=optimizer,metrics=[metric])"
      ]
    },
    {
      "attachments": {},
      "cell_type": "markdown",
      "metadata": {
        "id": "Eg9w2ZOiJP45"
      },
      "source": [
        "Fine tune mô hình với batch_size = 32 và 2 epoch"
      ]
    },
    {
      "cell_type": "code",
      "execution_count": null,
      "metadata": {
        "colab": {
          "base_uri": "https://localhost:8080/"
        },
        "id": "6VGm9TkQF-7f",
        "outputId": "dbc9f23e-be1e-4712-88f1-cbc7cbdaca40"
      },
      "outputs": [],
      "source": [
        "bertHistory = bertClassifier.fit(X_train,\n",
        "                       y_train,\n",
        "                       batch_size=32,\n",
        "                       epochs=3,\n",
        "                       validation_data=(X_val, y_val),\n",
        "                       callbacks=[model_callback])"
      ]
    },
    {
      "cell_type": "code",
      "execution_count": null,
      "metadata": {
        "colab": {
          "base_uri": "https://localhost:8080/",
          "height": 642
        },
        "id": "PC7uNYMfGMQC",
        "outputId": "0669d483-bb3c-40d3-d6c1-f4c54af7d8b6"
      },
      "outputs": [],
      "source": [
        "plt.figure(figsize=(10, 7))\n",
        "plt.plot(bertHistory.history['accuracy'])\n",
        "plt.plot(bertHistory.history['val_accuracy'])\n",
        "plt.title('Độ chính xác (accuracy) mô hình')\n",
        "plt.ylabel('Độ chính xác (accuracy)', fontweight = \"bold\")\n",
        "plt.xlabel('Epoch', fontweight = \"bold\")\n",
        "plt.legend(['train', 'val'], loc='upper right')\n",
        "plt.show()"
      ]
    },
    {
      "cell_type": "code",
      "execution_count": null,
      "metadata": {
        "colab": {
          "base_uri": "https://localhost:8080/",
          "height": 643
        },
        "id": "nAiK3_lKGKK7",
        "outputId": "d6b3fb41-fe12-486f-9cd8-3e63bc4a029f"
      },
      "outputs": [],
      "source": [
        "plt.figure(figsize=(10, 7))\n",
        "plt.plot(bertHistory.history['loss'])\n",
        "plt.plot(bertHistory.history['val_loss'])\n",
        "plt.title('Độ mất mát (loss) mô hình', fontweight = 'bold')\n",
        "plt.ylabel('Loss', fontweight = \"bold\")\n",
        "plt.xlabel('epoch', fontweight = \"bold\")\n",
        "plt.legend(['train', 'val'], loc='upper right')\n",
        "plt.show()"
      ]
    },
    {
      "attachments": {},
      "cell_type": "markdown",
      "metadata": {
        "id": "j8LnCEMmKV4r"
      },
      "source": [
        "#### 3.3.2 Giai đoạn 2: \n",
        "\n",
        "Tiếp tục fine tune trên `all_train_text` với cấu hình: learning rate = 5e-6, 1 epoch"
      ]
    },
    {
      "cell_type": "code",
      "execution_count": null,
      "metadata": {
        "colab": {
          "base_uri": "https://localhost:8080/"
        },
        "id": "7j6YBBXAVYqA",
        "outputId": "a3e45d39-3534-465f-eb3b-9cdbeccf7524"
      },
      "outputs": [],
      "source": [
        "bertClassifier.load_weights(checkpoint_path)"
      ]
    },
    {
      "attachments": {},
      "cell_type": "markdown",
      "metadata": {
        "id": "oYqR5LIUKeNk"
      },
      "source": [
        "Cấu hình lại hàm optimizer với learning rate nhỏ hơn, và learning rate bằng 5e-6"
      ]
    },
    {
      "cell_type": "code",
      "execution_count": null,
      "metadata": {
        "id": "RdXrtLSBcV2K"
      },
      "outputs": [],
      "source": [
        "optimizer2 = tf.keras.optimizers.Adam(learning_rate = 5e-7,epsilon=1e-08)\n",
        "\n",
        "bertClassifier.compile(loss=loss,optimizer=optimizer2,metrics=[metric])"
      ]
    },
    {
      "attachments": {},
      "cell_type": "markdown",
      "metadata": {
        "id": "gO676vKVKtyh"
      },
      "source": [
        "Fine tune mô hình với 1 epoch"
      ]
    },
    {
      "cell_type": "code",
      "execution_count": null,
      "metadata": {
        "colab": {
          "base_uri": "https://localhost:8080/"
        },
        "id": "vy_gkp3vhsz2",
        "outputId": "e2704d05-f4b3-4c9a-9a1a-36eb25f2cbcb"
      },
      "outputs": [],
      "source": [
        "history_all = bertClassifier.fit(all_train_tokenised_text_df,\n",
        "                       all_train_labels,\n",
        "                       batch_size=32,\n",
        "                       epochs=1)"
      ]
    },
    {
      "cell_type": "code",
      "execution_count": null,
      "metadata": {
        "colab": {
          "base_uri": "https://localhost:8080/"
        },
        "id": "U730viw8i_EX",
        "outputId": "47a6c322-e2e2-434e-eb8e-40e828a9f34f"
      },
      "outputs": [],
      "source": [
        "# predictions\n",
        "test_pred_all = bertClassifier.predict(X_val)\n",
        "tensor_test_predictions_all = tf.math.softmax(test_pred_all.logits, axis=1)\n",
        "print(tensor_test_predictions_all)\n",
        "\n",
        "# then use argmax after softmax to turn into labels\n",
        "test_predictions_all = [list(bertClassifier.config.id2label.keys())[i] for i in tf.math.argmax(tensor_test_predictions_all, axis=1).numpy()]"
      ]
    },
    {
      "cell_type": "code",
      "execution_count": null,
      "metadata": {
        "colab": {
          "base_uri": "https://localhost:8080/",
          "height": 646
        },
        "id": "QcTe1anri7hu",
        "outputId": "1bf45bba-7780-4f89-fcca-da41461aba5f"
      },
      "outputs": [],
      "source": [
        "eval_model(test_predictions_all)"
      ]
    },
    {
      "attachments": {},
      "cell_type": "markdown",
      "metadata": {
        "id": "BR20INgCK9YY"
      },
      "source": [
        "## 3. Dự đoán mô hình trên tập test và nộp bài lên Kaggle"
      ]
    },
    {
      "cell_type": "code",
      "execution_count": null,
      "metadata": {
        "colab": {
          "base_uri": "https://localhost:8080/"
        },
        "id": "PGexxKyjIAbc",
        "outputId": "242eb787-6b5f-44ee-cbdb-fbe55abebd40"
      },
      "outputs": [],
      "source": [
        "submitted_prediction = bertClassifier.predict(test_tokenised_text_df)\n",
        "print(submitted_prediction)"
      ]
    },
    {
      "cell_type": "code",
      "execution_count": null,
      "metadata": {
        "colab": {
          "base_uri": "https://localhost:8080/"
        },
        "id": "qOzva90-ICv0",
        "outputId": "a2e3c4f6-f473-44c0-c003-952f661af13e"
      },
      "outputs": [],
      "source": [
        "submitted_prediction = tf.math.softmax(submitted_prediction.logits, axis=1)\n",
        "print(submitted_prediction)"
      ]
    },
    {
      "attachments": {},
      "cell_type": "markdown",
      "metadata": {
        "id": "U5VTBIndLc93"
      },
      "source": [
        "Dùng hàm softmax để suy ra nhãn của từng mẫu dữ liệu"
      ]
    },
    {
      "cell_type": "code",
      "execution_count": null,
      "metadata": {
        "id": "uKWtyPRjIEMC"
      },
      "outputs": [],
      "source": [
        "submitted_prediction = [list(bertClassifier.config.id2label.keys())[i] for i in tf.math.argmax(submitted_prediction, axis=1).numpy()]"
      ]
    },
    {
      "cell_type": "code",
      "execution_count": null,
      "metadata": {
        "colab": {
          "base_uri": "https://localhost:8080/"
        },
        "id": "9Crxc1cyIRat",
        "outputId": "0dd280c9-5c81-4a61-c9f2-68540c9c4ffd"
      },
      "outputs": [],
      "source": [
        "print(\"Kết quả dự đoán\")\n",
        "print(submitted_prediction)"
      ]
    },
    {
      "cell_type": "code",
      "execution_count": null,
      "metadata": {
        "id": "n2uYoUVRIIeB"
      },
      "outputs": [],
      "source": [
        "df_sample = pd.read_csv('./dataset/sample_submission.csv')\n",
        "df_sample['target'] = submitted_prediction\n",
        "df_sample.to_csv('submission.csv', index = False)"
      ]
    }
  ],
  "metadata": {
    "accelerator": "GPU",
    "colab": {
      "gpuType": "T4",
      "provenance": [],
      "toc_visible": true
    },
    "kernelspec": {
      "display_name": "Python 3",
      "name": "python3"
    },
    "language_info": {
      "codemirror_mode": {
        "name": "ipython",
        "version": 3
      },
      "file_extension": ".py",
      "mimetype": "text/x-python",
      "name": "python",
      "nbconvert_exporter": "python",
      "pygments_lexer": "ipython3",
      "version": "3.10.10"
    },
    "orig_nbformat": 4,
    "widgets": {
      "application/vnd.jupyter.widget-state+json": {
        "0755e5c3ffa9436eac65538519065b58": {
          "model_module": "@jupyter-widgets/base",
          "model_module_version": "1.2.0",
          "model_name": "LayoutModel",
          "state": {
            "_model_module": "@jupyter-widgets/base",
            "_model_module_version": "1.2.0",
            "_model_name": "LayoutModel",
            "_view_count": null,
            "_view_module": "@jupyter-widgets/base",
            "_view_module_version": "1.2.0",
            "_view_name": "LayoutView",
            "align_content": null,
            "align_items": null,
            "align_self": null,
            "border": null,
            "bottom": null,
            "display": null,
            "flex": null,
            "flex_flow": null,
            "grid_area": null,
            "grid_auto_columns": null,
            "grid_auto_flow": null,
            "grid_auto_rows": null,
            "grid_column": null,
            "grid_gap": null,
            "grid_row": null,
            "grid_template_areas": null,
            "grid_template_columns": null,
            "grid_template_rows": null,
            "height": null,
            "justify_content": null,
            "justify_items": null,
            "left": null,
            "margin": null,
            "max_height": null,
            "max_width": null,
            "min_height": null,
            "min_width": null,
            "object_fit": null,
            "object_position": null,
            "order": null,
            "overflow": null,
            "overflow_x": null,
            "overflow_y": null,
            "padding": null,
            "right": null,
            "top": null,
            "visibility": null,
            "width": null
          }
        },
        "0e423a46ac694a2bba68b8c29b49362e": {
          "model_module": "@jupyter-widgets/controls",
          "model_module_version": "1.5.0",
          "model_name": "HTMLModel",
          "state": {
            "_dom_classes": [],
            "_model_module": "@jupyter-widgets/controls",
            "_model_module_version": "1.5.0",
            "_model_name": "HTMLModel",
            "_view_count": null,
            "_view_module": "@jupyter-widgets/controls",
            "_view_module_version": "1.5.0",
            "_view_name": "HTMLView",
            "description": "",
            "description_tooltip": null,
            "layout": "IPY_MODEL_22a9a2bad0fb417987047673395e603c",
            "placeholder": "​",
            "style": "IPY_MODEL_991bc42e1be64afdaa7a5d24e3fb270c",
            "value": "Downloading (…)okenizer_config.json: 100%"
          }
        },
        "100056515adc49c2b2015f26accf2c07": {
          "model_module": "@jupyter-widgets/base",
          "model_module_version": "1.2.0",
          "model_name": "LayoutModel",
          "state": {
            "_model_module": "@jupyter-widgets/base",
            "_model_module_version": "1.2.0",
            "_model_name": "LayoutModel",
            "_view_count": null,
            "_view_module": "@jupyter-widgets/base",
            "_view_module_version": "1.2.0",
            "_view_name": "LayoutView",
            "align_content": null,
            "align_items": null,
            "align_self": null,
            "border": null,
            "bottom": null,
            "display": null,
            "flex": null,
            "flex_flow": null,
            "grid_area": null,
            "grid_auto_columns": null,
            "grid_auto_flow": null,
            "grid_auto_rows": null,
            "grid_column": null,
            "grid_gap": null,
            "grid_row": null,
            "grid_template_areas": null,
            "grid_template_columns": null,
            "grid_template_rows": null,
            "height": null,
            "justify_content": null,
            "justify_items": null,
            "left": null,
            "margin": null,
            "max_height": null,
            "max_width": null,
            "min_height": null,
            "min_width": null,
            "object_fit": null,
            "object_position": null,
            "order": null,
            "overflow": null,
            "overflow_x": null,
            "overflow_y": null,
            "padding": null,
            "right": null,
            "top": null,
            "visibility": null,
            "width": null
          }
        },
        "14f454d0814d46e8aa922e644eeaf946": {
          "model_module": "@jupyter-widgets/controls",
          "model_module_version": "1.5.0",
          "model_name": "HTMLModel",
          "state": {
            "_dom_classes": [],
            "_model_module": "@jupyter-widgets/controls",
            "_model_module_version": "1.5.0",
            "_model_name": "HTMLModel",
            "_view_count": null,
            "_view_module": "@jupyter-widgets/controls",
            "_view_module_version": "1.5.0",
            "_view_name": "HTMLView",
            "description": "",
            "description_tooltip": null,
            "layout": "IPY_MODEL_2c4ceb27476447b9a05e76f26c30ce14",
            "placeholder": "​",
            "style": "IPY_MODEL_3d9a106a64144a988f34e31fe1eac6cb",
            "value": "Downloading model.safetensors: 100%"
          }
        },
        "1bfc8eb35c1d4678ab225aeb4a2c8370": {
          "model_module": "@jupyter-widgets/base",
          "model_module_version": "1.2.0",
          "model_name": "LayoutModel",
          "state": {
            "_model_module": "@jupyter-widgets/base",
            "_model_module_version": "1.2.0",
            "_model_name": "LayoutModel",
            "_view_count": null,
            "_view_module": "@jupyter-widgets/base",
            "_view_module_version": "1.2.0",
            "_view_name": "LayoutView",
            "align_content": null,
            "align_items": null,
            "align_self": null,
            "border": null,
            "bottom": null,
            "display": null,
            "flex": null,
            "flex_flow": null,
            "grid_area": null,
            "grid_auto_columns": null,
            "grid_auto_flow": null,
            "grid_auto_rows": null,
            "grid_column": null,
            "grid_gap": null,
            "grid_row": null,
            "grid_template_areas": null,
            "grid_template_columns": null,
            "grid_template_rows": null,
            "height": null,
            "justify_content": null,
            "justify_items": null,
            "left": null,
            "margin": null,
            "max_height": null,
            "max_width": null,
            "min_height": null,
            "min_width": null,
            "object_fit": null,
            "object_position": null,
            "order": null,
            "overflow": null,
            "overflow_x": null,
            "overflow_y": null,
            "padding": null,
            "right": null,
            "top": null,
            "visibility": null,
            "width": null
          }
        },
        "22a9a2bad0fb417987047673395e603c": {
          "model_module": "@jupyter-widgets/base",
          "model_module_version": "1.2.0",
          "model_name": "LayoutModel",
          "state": {
            "_model_module": "@jupyter-widgets/base",
            "_model_module_version": "1.2.0",
            "_model_name": "LayoutModel",
            "_view_count": null,
            "_view_module": "@jupyter-widgets/base",
            "_view_module_version": "1.2.0",
            "_view_name": "LayoutView",
            "align_content": null,
            "align_items": null,
            "align_self": null,
            "border": null,
            "bottom": null,
            "display": null,
            "flex": null,
            "flex_flow": null,
            "grid_area": null,
            "grid_auto_columns": null,
            "grid_auto_flow": null,
            "grid_auto_rows": null,
            "grid_column": null,
            "grid_gap": null,
            "grid_row": null,
            "grid_template_areas": null,
            "grid_template_columns": null,
            "grid_template_rows": null,
            "height": null,
            "justify_content": null,
            "justify_items": null,
            "left": null,
            "margin": null,
            "max_height": null,
            "max_width": null,
            "min_height": null,
            "min_width": null,
            "object_fit": null,
            "object_position": null,
            "order": null,
            "overflow": null,
            "overflow_x": null,
            "overflow_y": null,
            "padding": null,
            "right": null,
            "top": null,
            "visibility": null,
            "width": null
          }
        },
        "265ac7bc69f04a87a1eea7c21d6d5e2b": {
          "model_module": "@jupyter-widgets/controls",
          "model_module_version": "1.5.0",
          "model_name": "DescriptionStyleModel",
          "state": {
            "_model_module": "@jupyter-widgets/controls",
            "_model_module_version": "1.5.0",
            "_model_name": "DescriptionStyleModel",
            "_view_count": null,
            "_view_module": "@jupyter-widgets/base",
            "_view_module_version": "1.2.0",
            "_view_name": "StyleView",
            "description_width": ""
          }
        },
        "2c4ceb27476447b9a05e76f26c30ce14": {
          "model_module": "@jupyter-widgets/base",
          "model_module_version": "1.2.0",
          "model_name": "LayoutModel",
          "state": {
            "_model_module": "@jupyter-widgets/base",
            "_model_module_version": "1.2.0",
            "_model_name": "LayoutModel",
            "_view_count": null,
            "_view_module": "@jupyter-widgets/base",
            "_view_module_version": "1.2.0",
            "_view_name": "LayoutView",
            "align_content": null,
            "align_items": null,
            "align_self": null,
            "border": null,
            "bottom": null,
            "display": null,
            "flex": null,
            "flex_flow": null,
            "grid_area": null,
            "grid_auto_columns": null,
            "grid_auto_flow": null,
            "grid_auto_rows": null,
            "grid_column": null,
            "grid_gap": null,
            "grid_row": null,
            "grid_template_areas": null,
            "grid_template_columns": null,
            "grid_template_rows": null,
            "height": null,
            "justify_content": null,
            "justify_items": null,
            "left": null,
            "margin": null,
            "max_height": null,
            "max_width": null,
            "min_height": null,
            "min_width": null,
            "object_fit": null,
            "object_position": null,
            "order": null,
            "overflow": null,
            "overflow_x": null,
            "overflow_y": null,
            "padding": null,
            "right": null,
            "top": null,
            "visibility": null,
            "width": null
          }
        },
        "2f1ffd21b75640d7b75ba3373c4d2add": {
          "model_module": "@jupyter-widgets/controls",
          "model_module_version": "1.5.0",
          "model_name": "HTMLModel",
          "state": {
            "_dom_classes": [],
            "_model_module": "@jupyter-widgets/controls",
            "_model_module_version": "1.5.0",
            "_model_name": "HTMLModel",
            "_view_count": null,
            "_view_module": "@jupyter-widgets/controls",
            "_view_module_version": "1.5.0",
            "_view_name": "HTMLView",
            "description": "",
            "description_tooltip": null,
            "layout": "IPY_MODEL_f60e7c973fd74f889d7a6ae958de2407",
            "placeholder": "​",
            "style": "IPY_MODEL_8f342c0383964cd8ba61dd61542749ea",
            "value": " 28.0/28.0 [00:00&lt;00:00, 1.53kB/s]"
          }
        },
        "3153224946954c5d9987af647391b158": {
          "model_module": "@jupyter-widgets/controls",
          "model_module_version": "1.5.0",
          "model_name": "HBoxModel",
          "state": {
            "_dom_classes": [],
            "_model_module": "@jupyter-widgets/controls",
            "_model_module_version": "1.5.0",
            "_model_name": "HBoxModel",
            "_view_count": null,
            "_view_module": "@jupyter-widgets/controls",
            "_view_module_version": "1.5.0",
            "_view_name": "HBoxView",
            "box_style": "",
            "children": [
              "IPY_MODEL_0e423a46ac694a2bba68b8c29b49362e",
              "IPY_MODEL_aeebd7f8a09543d09234577e5af5adc8",
              "IPY_MODEL_2f1ffd21b75640d7b75ba3373c4d2add"
            ],
            "layout": "IPY_MODEL_1bfc8eb35c1d4678ab225aeb4a2c8370"
          }
        },
        "3d9a106a64144a988f34e31fe1eac6cb": {
          "model_module": "@jupyter-widgets/controls",
          "model_module_version": "1.5.0",
          "model_name": "DescriptionStyleModel",
          "state": {
            "_model_module": "@jupyter-widgets/controls",
            "_model_module_version": "1.5.0",
            "_model_name": "DescriptionStyleModel",
            "_view_count": null,
            "_view_module": "@jupyter-widgets/base",
            "_view_module_version": "1.2.0",
            "_view_name": "StyleView",
            "description_width": ""
          }
        },
        "3f7de111a319497c93869a824f0a7fe5": {
          "model_module": "@jupyter-widgets/controls",
          "model_module_version": "1.5.0",
          "model_name": "HBoxModel",
          "state": {
            "_dom_classes": [],
            "_model_module": "@jupyter-widgets/controls",
            "_model_module_version": "1.5.0",
            "_model_name": "HBoxModel",
            "_view_count": null,
            "_view_module": "@jupyter-widgets/controls",
            "_view_module_version": "1.5.0",
            "_view_name": "HBoxView",
            "box_style": "",
            "children": [
              "IPY_MODEL_7f5b421cf0014e3e9b719f8e3ed33bbf",
              "IPY_MODEL_b26eb52ae8ed473dbe42f2e1c03f28fb",
              "IPY_MODEL_9e906a4940da4505950aa3fe0e8cbf7a"
            ],
            "layout": "IPY_MODEL_aaec88ecb36b442ab7d591a5010550c6"
          }
        },
        "4e06a17343d140c89b2ca103b40a9cb5": {
          "model_module": "@jupyter-widgets/controls",
          "model_module_version": "1.5.0",
          "model_name": "HTMLModel",
          "state": {
            "_dom_classes": [],
            "_model_module": "@jupyter-widgets/controls",
            "_model_module_version": "1.5.0",
            "_model_name": "HTMLModel",
            "_view_count": null,
            "_view_module": "@jupyter-widgets/controls",
            "_view_module_version": "1.5.0",
            "_view_name": "HTMLView",
            "description": "",
            "description_tooltip": null,
            "layout": "IPY_MODEL_9107bd3d59c6493895cb3abd4a3e298a",
            "placeholder": "​",
            "style": "IPY_MODEL_4f7373f213b74bd1aad4f91bf194084c",
            "value": " 440M/440M [00:02&lt;00:00, 231MB/s]"
          }
        },
        "4f7373f213b74bd1aad4f91bf194084c": {
          "model_module": "@jupyter-widgets/controls",
          "model_module_version": "1.5.0",
          "model_name": "DescriptionStyleModel",
          "state": {
            "_model_module": "@jupyter-widgets/controls",
            "_model_module_version": "1.5.0",
            "_model_name": "DescriptionStyleModel",
            "_view_count": null,
            "_view_module": "@jupyter-widgets/base",
            "_view_module_version": "1.2.0",
            "_view_name": "StyleView",
            "description_width": ""
          }
        },
        "69f9b25b3e1e47f5a1fde4d88e22285e": {
          "model_module": "@jupyter-widgets/controls",
          "model_module_version": "1.5.0",
          "model_name": "FloatProgressModel",
          "state": {
            "_dom_classes": [],
            "_model_module": "@jupyter-widgets/controls",
            "_model_module_version": "1.5.0",
            "_model_name": "FloatProgressModel",
            "_view_count": null,
            "_view_module": "@jupyter-widgets/controls",
            "_view_module_version": "1.5.0",
            "_view_name": "ProgressView",
            "bar_style": "success",
            "description": "",
            "description_tooltip": null,
            "layout": "IPY_MODEL_db2bda44c8c24bb282364a04b023fe80",
            "max": 231508,
            "min": 0,
            "orientation": "horizontal",
            "style": "IPY_MODEL_ca58d4f7ca154094911486d04ae17e54",
            "value": 231508
          }
        },
        "73c900e6331a430894e2726bccbe79b0": {
          "model_module": "@jupyter-widgets/base",
          "model_module_version": "1.2.0",
          "model_name": "LayoutModel",
          "state": {
            "_model_module": "@jupyter-widgets/base",
            "_model_module_version": "1.2.0",
            "_model_name": "LayoutModel",
            "_view_count": null,
            "_view_module": "@jupyter-widgets/base",
            "_view_module_version": "1.2.0",
            "_view_name": "LayoutView",
            "align_content": null,
            "align_items": null,
            "align_self": null,
            "border": null,
            "bottom": null,
            "display": null,
            "flex": null,
            "flex_flow": null,
            "grid_area": null,
            "grid_auto_columns": null,
            "grid_auto_flow": null,
            "grid_auto_rows": null,
            "grid_column": null,
            "grid_gap": null,
            "grid_row": null,
            "grid_template_areas": null,
            "grid_template_columns": null,
            "grid_template_rows": null,
            "height": null,
            "justify_content": null,
            "justify_items": null,
            "left": null,
            "margin": null,
            "max_height": null,
            "max_width": null,
            "min_height": null,
            "min_width": null,
            "object_fit": null,
            "object_position": null,
            "order": null,
            "overflow": null,
            "overflow_x": null,
            "overflow_y": null,
            "padding": null,
            "right": null,
            "top": null,
            "visibility": null,
            "width": null
          }
        },
        "7d81ff2780924d14be8557a87c57d4e9": {
          "model_module": "@jupyter-widgets/controls",
          "model_module_version": "1.5.0",
          "model_name": "DescriptionStyleModel",
          "state": {
            "_model_module": "@jupyter-widgets/controls",
            "_model_module_version": "1.5.0",
            "_model_name": "DescriptionStyleModel",
            "_view_count": null,
            "_view_module": "@jupyter-widgets/base",
            "_view_module_version": "1.2.0",
            "_view_name": "StyleView",
            "description_width": ""
          }
        },
        "7f5b421cf0014e3e9b719f8e3ed33bbf": {
          "model_module": "@jupyter-widgets/controls",
          "model_module_version": "1.5.0",
          "model_name": "HTMLModel",
          "state": {
            "_dom_classes": [],
            "_model_module": "@jupyter-widgets/controls",
            "_model_module_version": "1.5.0",
            "_model_name": "HTMLModel",
            "_view_count": null,
            "_view_module": "@jupyter-widgets/controls",
            "_view_module_version": "1.5.0",
            "_view_name": "HTMLView",
            "description": "",
            "description_tooltip": null,
            "layout": "IPY_MODEL_d53a763ad6394cf98a715667974f1408",
            "placeholder": "​",
            "style": "IPY_MODEL_80b2d40acfde46e6b96a344ce6d09e41",
            "value": "Downloading (…)lve/main/config.json: 100%"
          }
        },
        "80b2d40acfde46e6b96a344ce6d09e41": {
          "model_module": "@jupyter-widgets/controls",
          "model_module_version": "1.5.0",
          "model_name": "DescriptionStyleModel",
          "state": {
            "_model_module": "@jupyter-widgets/controls",
            "_model_module_version": "1.5.0",
            "_model_name": "DescriptionStyleModel",
            "_view_count": null,
            "_view_module": "@jupyter-widgets/base",
            "_view_module_version": "1.2.0",
            "_view_name": "StyleView",
            "description_width": ""
          }
        },
        "83589ab979af46fc88cc447ab0b7966e": {
          "model_module": "@jupyter-widgets/controls",
          "model_module_version": "1.5.0",
          "model_name": "DescriptionStyleModel",
          "state": {
            "_model_module": "@jupyter-widgets/controls",
            "_model_module_version": "1.5.0",
            "_model_name": "DescriptionStyleModel",
            "_view_count": null,
            "_view_module": "@jupyter-widgets/base",
            "_view_module_version": "1.2.0",
            "_view_name": "StyleView",
            "description_width": ""
          }
        },
        "8679e639a6924e83809b487a9b5429e0": {
          "model_module": "@jupyter-widgets/controls",
          "model_module_version": "1.5.0",
          "model_name": "HBoxModel",
          "state": {
            "_dom_classes": [],
            "_model_module": "@jupyter-widgets/controls",
            "_model_module_version": "1.5.0",
            "_model_name": "HBoxModel",
            "_view_count": null,
            "_view_module": "@jupyter-widgets/controls",
            "_view_module_version": "1.5.0",
            "_view_name": "HBoxView",
            "box_style": "",
            "children": [
              "IPY_MODEL_14f454d0814d46e8aa922e644eeaf946",
              "IPY_MODEL_aeab1e99bca3405e94fc28ccfb392cb8",
              "IPY_MODEL_4e06a17343d140c89b2ca103b40a9cb5"
            ],
            "layout": "IPY_MODEL_e40c9c7a1b6d4e7e8a787c6453e4a4c3"
          }
        },
        "86aea03d0f864a6ea2eb30f723492b96": {
          "model_module": "@jupyter-widgets/base",
          "model_module_version": "1.2.0",
          "model_name": "LayoutModel",
          "state": {
            "_model_module": "@jupyter-widgets/base",
            "_model_module_version": "1.2.0",
            "_model_name": "LayoutModel",
            "_view_count": null,
            "_view_module": "@jupyter-widgets/base",
            "_view_module_version": "1.2.0",
            "_view_name": "LayoutView",
            "align_content": null,
            "align_items": null,
            "align_self": null,
            "border": null,
            "bottom": null,
            "display": null,
            "flex": null,
            "flex_flow": null,
            "grid_area": null,
            "grid_auto_columns": null,
            "grid_auto_flow": null,
            "grid_auto_rows": null,
            "grid_column": null,
            "grid_gap": null,
            "grid_row": null,
            "grid_template_areas": null,
            "grid_template_columns": null,
            "grid_template_rows": null,
            "height": null,
            "justify_content": null,
            "justify_items": null,
            "left": null,
            "margin": null,
            "max_height": null,
            "max_width": null,
            "min_height": null,
            "min_width": null,
            "object_fit": null,
            "object_position": null,
            "order": null,
            "overflow": null,
            "overflow_x": null,
            "overflow_y": null,
            "padding": null,
            "right": null,
            "top": null,
            "visibility": null,
            "width": null
          }
        },
        "8a839d5ba8d44ff8b3f1dbdd8d99e2b8": {
          "model_module": "@jupyter-widgets/controls",
          "model_module_version": "1.5.0",
          "model_name": "ProgressStyleModel",
          "state": {
            "_model_module": "@jupyter-widgets/controls",
            "_model_module_version": "1.5.0",
            "_model_name": "ProgressStyleModel",
            "_view_count": null,
            "_view_module": "@jupyter-widgets/base",
            "_view_module_version": "1.2.0",
            "_view_name": "StyleView",
            "bar_color": null,
            "description_width": ""
          }
        },
        "8f342c0383964cd8ba61dd61542749ea": {
          "model_module": "@jupyter-widgets/controls",
          "model_module_version": "1.5.0",
          "model_name": "DescriptionStyleModel",
          "state": {
            "_model_module": "@jupyter-widgets/controls",
            "_model_module_version": "1.5.0",
            "_model_name": "DescriptionStyleModel",
            "_view_count": null,
            "_view_module": "@jupyter-widgets/base",
            "_view_module_version": "1.2.0",
            "_view_name": "StyleView",
            "description_width": ""
          }
        },
        "9107bd3d59c6493895cb3abd4a3e298a": {
          "model_module": "@jupyter-widgets/base",
          "model_module_version": "1.2.0",
          "model_name": "LayoutModel",
          "state": {
            "_model_module": "@jupyter-widgets/base",
            "_model_module_version": "1.2.0",
            "_model_name": "LayoutModel",
            "_view_count": null,
            "_view_module": "@jupyter-widgets/base",
            "_view_module_version": "1.2.0",
            "_view_name": "LayoutView",
            "align_content": null,
            "align_items": null,
            "align_self": null,
            "border": null,
            "bottom": null,
            "display": null,
            "flex": null,
            "flex_flow": null,
            "grid_area": null,
            "grid_auto_columns": null,
            "grid_auto_flow": null,
            "grid_auto_rows": null,
            "grid_column": null,
            "grid_gap": null,
            "grid_row": null,
            "grid_template_areas": null,
            "grid_template_columns": null,
            "grid_template_rows": null,
            "height": null,
            "justify_content": null,
            "justify_items": null,
            "left": null,
            "margin": null,
            "max_height": null,
            "max_width": null,
            "min_height": null,
            "min_width": null,
            "object_fit": null,
            "object_position": null,
            "order": null,
            "overflow": null,
            "overflow_x": null,
            "overflow_y": null,
            "padding": null,
            "right": null,
            "top": null,
            "visibility": null,
            "width": null
          }
        },
        "956a30c914004804816cc6da9407e779": {
          "model_module": "@jupyter-widgets/base",
          "model_module_version": "1.2.0",
          "model_name": "LayoutModel",
          "state": {
            "_model_module": "@jupyter-widgets/base",
            "_model_module_version": "1.2.0",
            "_model_name": "LayoutModel",
            "_view_count": null,
            "_view_module": "@jupyter-widgets/base",
            "_view_module_version": "1.2.0",
            "_view_name": "LayoutView",
            "align_content": null,
            "align_items": null,
            "align_self": null,
            "border": null,
            "bottom": null,
            "display": null,
            "flex": null,
            "flex_flow": null,
            "grid_area": null,
            "grid_auto_columns": null,
            "grid_auto_flow": null,
            "grid_auto_rows": null,
            "grid_column": null,
            "grid_gap": null,
            "grid_row": null,
            "grid_template_areas": null,
            "grid_template_columns": null,
            "grid_template_rows": null,
            "height": null,
            "justify_content": null,
            "justify_items": null,
            "left": null,
            "margin": null,
            "max_height": null,
            "max_width": null,
            "min_height": null,
            "min_width": null,
            "object_fit": null,
            "object_position": null,
            "order": null,
            "overflow": null,
            "overflow_x": null,
            "overflow_y": null,
            "padding": null,
            "right": null,
            "top": null,
            "visibility": null,
            "width": null
          }
        },
        "991bc42e1be64afdaa7a5d24e3fb270c": {
          "model_module": "@jupyter-widgets/controls",
          "model_module_version": "1.5.0",
          "model_name": "DescriptionStyleModel",
          "state": {
            "_model_module": "@jupyter-widgets/controls",
            "_model_module_version": "1.5.0",
            "_model_name": "DescriptionStyleModel",
            "_view_count": null,
            "_view_module": "@jupyter-widgets/base",
            "_view_module_version": "1.2.0",
            "_view_name": "StyleView",
            "description_width": ""
          }
        },
        "9e906a4940da4505950aa3fe0e8cbf7a": {
          "model_module": "@jupyter-widgets/controls",
          "model_module_version": "1.5.0",
          "model_name": "HTMLModel",
          "state": {
            "_dom_classes": [],
            "_model_module": "@jupyter-widgets/controls",
            "_model_module_version": "1.5.0",
            "_model_name": "HTMLModel",
            "_view_count": null,
            "_view_module": "@jupyter-widgets/controls",
            "_view_module_version": "1.5.0",
            "_view_name": "HTMLView",
            "description": "",
            "description_tooltip": null,
            "layout": "IPY_MODEL_86aea03d0f864a6ea2eb30f723492b96",
            "placeholder": "​",
            "style": "IPY_MODEL_83589ab979af46fc88cc447ab0b7966e",
            "value": " 570/570 [00:00&lt;00:00, 33.9kB/s]"
          }
        },
        "9ef71045d27a4e12ba69b96faf7b893d": {
          "model_module": "@jupyter-widgets/controls",
          "model_module_version": "1.5.0",
          "model_name": "ProgressStyleModel",
          "state": {
            "_model_module": "@jupyter-widgets/controls",
            "_model_module_version": "1.5.0",
            "_model_name": "ProgressStyleModel",
            "_view_count": null,
            "_view_module": "@jupyter-widgets/base",
            "_view_module_version": "1.2.0",
            "_view_name": "StyleView",
            "bar_color": null,
            "description_width": ""
          }
        },
        "aaec88ecb36b442ab7d591a5010550c6": {
          "model_module": "@jupyter-widgets/base",
          "model_module_version": "1.2.0",
          "model_name": "LayoutModel",
          "state": {
            "_model_module": "@jupyter-widgets/base",
            "_model_module_version": "1.2.0",
            "_model_name": "LayoutModel",
            "_view_count": null,
            "_view_module": "@jupyter-widgets/base",
            "_view_module_version": "1.2.0",
            "_view_name": "LayoutView",
            "align_content": null,
            "align_items": null,
            "align_self": null,
            "border": null,
            "bottom": null,
            "display": null,
            "flex": null,
            "flex_flow": null,
            "grid_area": null,
            "grid_auto_columns": null,
            "grid_auto_flow": null,
            "grid_auto_rows": null,
            "grid_column": null,
            "grid_gap": null,
            "grid_row": null,
            "grid_template_areas": null,
            "grid_template_columns": null,
            "grid_template_rows": null,
            "height": null,
            "justify_content": null,
            "justify_items": null,
            "left": null,
            "margin": null,
            "max_height": null,
            "max_width": null,
            "min_height": null,
            "min_width": null,
            "object_fit": null,
            "object_position": null,
            "order": null,
            "overflow": null,
            "overflow_x": null,
            "overflow_y": null,
            "padding": null,
            "right": null,
            "top": null,
            "visibility": null,
            "width": null
          }
        },
        "aeab1e99bca3405e94fc28ccfb392cb8": {
          "model_module": "@jupyter-widgets/controls",
          "model_module_version": "1.5.0",
          "model_name": "FloatProgressModel",
          "state": {
            "_dom_classes": [],
            "_model_module": "@jupyter-widgets/controls",
            "_model_module_version": "1.5.0",
            "_model_name": "FloatProgressModel",
            "_view_count": null,
            "_view_module": "@jupyter-widgets/controls",
            "_view_module_version": "1.5.0",
            "_view_name": "ProgressView",
            "bar_style": "success",
            "description": "",
            "description_tooltip": null,
            "layout": "IPY_MODEL_73c900e6331a430894e2726bccbe79b0",
            "max": 440449768,
            "min": 0,
            "orientation": "horizontal",
            "style": "IPY_MODEL_c0a8cfa6666b4fc98c69c0167870ef57",
            "value": 440449768
          }
        },
        "aeebd7f8a09543d09234577e5af5adc8": {
          "model_module": "@jupyter-widgets/controls",
          "model_module_version": "1.5.0",
          "model_name": "FloatProgressModel",
          "state": {
            "_dom_classes": [],
            "_model_module": "@jupyter-widgets/controls",
            "_model_module_version": "1.5.0",
            "_model_name": "FloatProgressModel",
            "_view_count": null,
            "_view_module": "@jupyter-widgets/controls",
            "_view_module_version": "1.5.0",
            "_view_name": "ProgressView",
            "bar_style": "success",
            "description": "",
            "description_tooltip": null,
            "layout": "IPY_MODEL_ec3eda03fcbd472493bfd2c9c84dbc4b",
            "max": 28,
            "min": 0,
            "orientation": "horizontal",
            "style": "IPY_MODEL_9ef71045d27a4e12ba69b96faf7b893d",
            "value": 28
          }
        },
        "b26eb52ae8ed473dbe42f2e1c03f28fb": {
          "model_module": "@jupyter-widgets/controls",
          "model_module_version": "1.5.0",
          "model_name": "FloatProgressModel",
          "state": {
            "_dom_classes": [],
            "_model_module": "@jupyter-widgets/controls",
            "_model_module_version": "1.5.0",
            "_model_name": "FloatProgressModel",
            "_view_count": null,
            "_view_module": "@jupyter-widgets/controls",
            "_view_module_version": "1.5.0",
            "_view_name": "ProgressView",
            "bar_style": "success",
            "description": "",
            "description_tooltip": null,
            "layout": "IPY_MODEL_0755e5c3ffa9436eac65538519065b58",
            "max": 570,
            "min": 0,
            "orientation": "horizontal",
            "style": "IPY_MODEL_8a839d5ba8d44ff8b3f1dbdd8d99e2b8",
            "value": 570
          }
        },
        "b45cf6a163834c0688a93542dd2ff6e7": {
          "model_module": "@jupyter-widgets/controls",
          "model_module_version": "1.5.0",
          "model_name": "HTMLModel",
          "state": {
            "_dom_classes": [],
            "_model_module": "@jupyter-widgets/controls",
            "_model_module_version": "1.5.0",
            "_model_name": "HTMLModel",
            "_view_count": null,
            "_view_module": "@jupyter-widgets/controls",
            "_view_module_version": "1.5.0",
            "_view_name": "HTMLView",
            "description": "",
            "description_tooltip": null,
            "layout": "IPY_MODEL_100056515adc49c2b2015f26accf2c07",
            "placeholder": "​",
            "style": "IPY_MODEL_7d81ff2780924d14be8557a87c57d4e9",
            "value": "Downloading (…)solve/main/vocab.txt: 100%"
          }
        },
        "b57d7893261249e5b8d7cb8cb425b5f0": {
          "model_module": "@jupyter-widgets/base",
          "model_module_version": "1.2.0",
          "model_name": "LayoutModel",
          "state": {
            "_model_module": "@jupyter-widgets/base",
            "_model_module_version": "1.2.0",
            "_model_name": "LayoutModel",
            "_view_count": null,
            "_view_module": "@jupyter-widgets/base",
            "_view_module_version": "1.2.0",
            "_view_name": "LayoutView",
            "align_content": null,
            "align_items": null,
            "align_self": null,
            "border": null,
            "bottom": null,
            "display": null,
            "flex": null,
            "flex_flow": null,
            "grid_area": null,
            "grid_auto_columns": null,
            "grid_auto_flow": null,
            "grid_auto_rows": null,
            "grid_column": null,
            "grid_gap": null,
            "grid_row": null,
            "grid_template_areas": null,
            "grid_template_columns": null,
            "grid_template_rows": null,
            "height": null,
            "justify_content": null,
            "justify_items": null,
            "left": null,
            "margin": null,
            "max_height": null,
            "max_width": null,
            "min_height": null,
            "min_width": null,
            "object_fit": null,
            "object_position": null,
            "order": null,
            "overflow": null,
            "overflow_x": null,
            "overflow_y": null,
            "padding": null,
            "right": null,
            "top": null,
            "visibility": null,
            "width": null
          }
        },
        "c0a8cfa6666b4fc98c69c0167870ef57": {
          "model_module": "@jupyter-widgets/controls",
          "model_module_version": "1.5.0",
          "model_name": "ProgressStyleModel",
          "state": {
            "_model_module": "@jupyter-widgets/controls",
            "_model_module_version": "1.5.0",
            "_model_name": "ProgressStyleModel",
            "_view_count": null,
            "_view_module": "@jupyter-widgets/base",
            "_view_module_version": "1.2.0",
            "_view_name": "StyleView",
            "bar_color": null,
            "description_width": ""
          }
        },
        "c3be1a8736f54bc4aa9b97f32ec25fba": {
          "model_module": "@jupyter-widgets/controls",
          "model_module_version": "1.5.0",
          "model_name": "HBoxModel",
          "state": {
            "_dom_classes": [],
            "_model_module": "@jupyter-widgets/controls",
            "_model_module_version": "1.5.0",
            "_model_name": "HBoxModel",
            "_view_count": null,
            "_view_module": "@jupyter-widgets/controls",
            "_view_module_version": "1.5.0",
            "_view_name": "HBoxView",
            "box_style": "",
            "children": [
              "IPY_MODEL_b45cf6a163834c0688a93542dd2ff6e7",
              "IPY_MODEL_69f9b25b3e1e47f5a1fde4d88e22285e",
              "IPY_MODEL_ffda4b2962e14136a506d56ac3edc7e2"
            ],
            "layout": "IPY_MODEL_956a30c914004804816cc6da9407e779"
          }
        },
        "ca58d4f7ca154094911486d04ae17e54": {
          "model_module": "@jupyter-widgets/controls",
          "model_module_version": "1.5.0",
          "model_name": "ProgressStyleModel",
          "state": {
            "_model_module": "@jupyter-widgets/controls",
            "_model_module_version": "1.5.0",
            "_model_name": "ProgressStyleModel",
            "_view_count": null,
            "_view_module": "@jupyter-widgets/base",
            "_view_module_version": "1.2.0",
            "_view_name": "StyleView",
            "bar_color": null,
            "description_width": ""
          }
        },
        "d53a763ad6394cf98a715667974f1408": {
          "model_module": "@jupyter-widgets/base",
          "model_module_version": "1.2.0",
          "model_name": "LayoutModel",
          "state": {
            "_model_module": "@jupyter-widgets/base",
            "_model_module_version": "1.2.0",
            "_model_name": "LayoutModel",
            "_view_count": null,
            "_view_module": "@jupyter-widgets/base",
            "_view_module_version": "1.2.0",
            "_view_name": "LayoutView",
            "align_content": null,
            "align_items": null,
            "align_self": null,
            "border": null,
            "bottom": null,
            "display": null,
            "flex": null,
            "flex_flow": null,
            "grid_area": null,
            "grid_auto_columns": null,
            "grid_auto_flow": null,
            "grid_auto_rows": null,
            "grid_column": null,
            "grid_gap": null,
            "grid_row": null,
            "grid_template_areas": null,
            "grid_template_columns": null,
            "grid_template_rows": null,
            "height": null,
            "justify_content": null,
            "justify_items": null,
            "left": null,
            "margin": null,
            "max_height": null,
            "max_width": null,
            "min_height": null,
            "min_width": null,
            "object_fit": null,
            "object_position": null,
            "order": null,
            "overflow": null,
            "overflow_x": null,
            "overflow_y": null,
            "padding": null,
            "right": null,
            "top": null,
            "visibility": null,
            "width": null
          }
        },
        "db2bda44c8c24bb282364a04b023fe80": {
          "model_module": "@jupyter-widgets/base",
          "model_module_version": "1.2.0",
          "model_name": "LayoutModel",
          "state": {
            "_model_module": "@jupyter-widgets/base",
            "_model_module_version": "1.2.0",
            "_model_name": "LayoutModel",
            "_view_count": null,
            "_view_module": "@jupyter-widgets/base",
            "_view_module_version": "1.2.0",
            "_view_name": "LayoutView",
            "align_content": null,
            "align_items": null,
            "align_self": null,
            "border": null,
            "bottom": null,
            "display": null,
            "flex": null,
            "flex_flow": null,
            "grid_area": null,
            "grid_auto_columns": null,
            "grid_auto_flow": null,
            "grid_auto_rows": null,
            "grid_column": null,
            "grid_gap": null,
            "grid_row": null,
            "grid_template_areas": null,
            "grid_template_columns": null,
            "grid_template_rows": null,
            "height": null,
            "justify_content": null,
            "justify_items": null,
            "left": null,
            "margin": null,
            "max_height": null,
            "max_width": null,
            "min_height": null,
            "min_width": null,
            "object_fit": null,
            "object_position": null,
            "order": null,
            "overflow": null,
            "overflow_x": null,
            "overflow_y": null,
            "padding": null,
            "right": null,
            "top": null,
            "visibility": null,
            "width": null
          }
        },
        "e40c9c7a1b6d4e7e8a787c6453e4a4c3": {
          "model_module": "@jupyter-widgets/base",
          "model_module_version": "1.2.0",
          "model_name": "LayoutModel",
          "state": {
            "_model_module": "@jupyter-widgets/base",
            "_model_module_version": "1.2.0",
            "_model_name": "LayoutModel",
            "_view_count": null,
            "_view_module": "@jupyter-widgets/base",
            "_view_module_version": "1.2.0",
            "_view_name": "LayoutView",
            "align_content": null,
            "align_items": null,
            "align_self": null,
            "border": null,
            "bottom": null,
            "display": null,
            "flex": null,
            "flex_flow": null,
            "grid_area": null,
            "grid_auto_columns": null,
            "grid_auto_flow": null,
            "grid_auto_rows": null,
            "grid_column": null,
            "grid_gap": null,
            "grid_row": null,
            "grid_template_areas": null,
            "grid_template_columns": null,
            "grid_template_rows": null,
            "height": null,
            "justify_content": null,
            "justify_items": null,
            "left": null,
            "margin": null,
            "max_height": null,
            "max_width": null,
            "min_height": null,
            "min_width": null,
            "object_fit": null,
            "object_position": null,
            "order": null,
            "overflow": null,
            "overflow_x": null,
            "overflow_y": null,
            "padding": null,
            "right": null,
            "top": null,
            "visibility": null,
            "width": null
          }
        },
        "ec3eda03fcbd472493bfd2c9c84dbc4b": {
          "model_module": "@jupyter-widgets/base",
          "model_module_version": "1.2.0",
          "model_name": "LayoutModel",
          "state": {
            "_model_module": "@jupyter-widgets/base",
            "_model_module_version": "1.2.0",
            "_model_name": "LayoutModel",
            "_view_count": null,
            "_view_module": "@jupyter-widgets/base",
            "_view_module_version": "1.2.0",
            "_view_name": "LayoutView",
            "align_content": null,
            "align_items": null,
            "align_self": null,
            "border": null,
            "bottom": null,
            "display": null,
            "flex": null,
            "flex_flow": null,
            "grid_area": null,
            "grid_auto_columns": null,
            "grid_auto_flow": null,
            "grid_auto_rows": null,
            "grid_column": null,
            "grid_gap": null,
            "grid_row": null,
            "grid_template_areas": null,
            "grid_template_columns": null,
            "grid_template_rows": null,
            "height": null,
            "justify_content": null,
            "justify_items": null,
            "left": null,
            "margin": null,
            "max_height": null,
            "max_width": null,
            "min_height": null,
            "min_width": null,
            "object_fit": null,
            "object_position": null,
            "order": null,
            "overflow": null,
            "overflow_x": null,
            "overflow_y": null,
            "padding": null,
            "right": null,
            "top": null,
            "visibility": null,
            "width": null
          }
        },
        "f60e7c973fd74f889d7a6ae958de2407": {
          "model_module": "@jupyter-widgets/base",
          "model_module_version": "1.2.0",
          "model_name": "LayoutModel",
          "state": {
            "_model_module": "@jupyter-widgets/base",
            "_model_module_version": "1.2.0",
            "_model_name": "LayoutModel",
            "_view_count": null,
            "_view_module": "@jupyter-widgets/base",
            "_view_module_version": "1.2.0",
            "_view_name": "LayoutView",
            "align_content": null,
            "align_items": null,
            "align_self": null,
            "border": null,
            "bottom": null,
            "display": null,
            "flex": null,
            "flex_flow": null,
            "grid_area": null,
            "grid_auto_columns": null,
            "grid_auto_flow": null,
            "grid_auto_rows": null,
            "grid_column": null,
            "grid_gap": null,
            "grid_row": null,
            "grid_template_areas": null,
            "grid_template_columns": null,
            "grid_template_rows": null,
            "height": null,
            "justify_content": null,
            "justify_items": null,
            "left": null,
            "margin": null,
            "max_height": null,
            "max_width": null,
            "min_height": null,
            "min_width": null,
            "object_fit": null,
            "object_position": null,
            "order": null,
            "overflow": null,
            "overflow_x": null,
            "overflow_y": null,
            "padding": null,
            "right": null,
            "top": null,
            "visibility": null,
            "width": null
          }
        },
        "ffda4b2962e14136a506d56ac3edc7e2": {
          "model_module": "@jupyter-widgets/controls",
          "model_module_version": "1.5.0",
          "model_name": "HTMLModel",
          "state": {
            "_dom_classes": [],
            "_model_module": "@jupyter-widgets/controls",
            "_model_module_version": "1.5.0",
            "_model_name": "HTMLModel",
            "_view_count": null,
            "_view_module": "@jupyter-widgets/controls",
            "_view_module_version": "1.5.0",
            "_view_name": "HTMLView",
            "description": "",
            "description_tooltip": null,
            "layout": "IPY_MODEL_b57d7893261249e5b8d7cb8cb425b5f0",
            "placeholder": "​",
            "style": "IPY_MODEL_265ac7bc69f04a87a1eea7c21d6d5e2b",
            "value": " 232k/232k [00:00&lt;00:00, 8.91MB/s]"
          }
        }
      }
    }
  },
  "nbformat": 4,
  "nbformat_minor": 0
}
