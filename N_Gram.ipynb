{
 "cells": [
  {
   "cell_type": "code",
   "execution_count": 10,
   "metadata": {},
   "outputs": [],
   "source": [
    "# import libraries\n",
    "import numpy as np\n",
    "import pandas as pd\n",
    "\n",
    "from nltk.util import ngrams\n",
    "from sklearn.model_selection import train_test_split\n",
    "from keras.models import Sequential\n",
    "from keras.layers import Dense\n",
    "\n",
    "\n",
    "import warnings\n",
    "warnings.filterwarnings('ignore')"
   ]
  },
  {
   "cell_type": "code",
   "execution_count": 11,
   "metadata": {},
   "outputs": [],
   "source": [
    "train_df = pd.read_csv('./preprocessing/train.csv')\n",
    "test_df = pd.read_csv('./preprocessing/test.csv')"
   ]
  },
  {
   "cell_type": "code",
   "execution_count": 12,
   "metadata": {},
   "outputs": [],
   "source": [
    "# lets use only tweet text to build the model\n",
    "X = train_df.text\n",
    "y = train_df.target\n",
    "\n",
    "test_id = test_df.id\n",
    "test_df.drop([\"id\",\"location\",\"keyword\"],1,inplace = True)"
   ]
  },
  {
   "cell_type": "code",
   "execution_count": 13,
   "metadata": {},
   "outputs": [],
   "source": [
    "# Test train split \n",
    "X_train, X_val, y_train, y_val = train_test_split(X, y, test_size = 0.2, random_state = 42)"
   ]
  },
  {
   "cell_type": "code",
   "execution_count": 14,
   "metadata": {},
   "outputs": [],
   "source": [
    "# Bag of Words model\n",
    "from keras.preprocessing.text import Tokenizer\n",
    "\n",
    "# fit a tokenizer\n",
    "def create_tokenizer(lines):\n",
    "    tokenizer = Tokenizer()\n",
    "    tokenizer.fit_on_texts(lines)\n",
    "    return tokenizer"
   ]
  },
  {
   "cell_type": "code",
   "execution_count": 15,
   "metadata": {},
   "outputs": [],
   "source": [
    "# create and apply tokenizer on the training dataset\n",
    "tokenizer = create_tokenizer(X_train)\n",
    "X_train_set = tokenizer.texts_to_matrix(X_train, mode = 'freq')"
   ]
  },
  {
   "cell_type": "code",
   "execution_count": 16,
   "metadata": {},
   "outputs": [],
   "source": [
    "# define the model\n",
    "def define_model(n_words):\n",
    "    # define network\n",
    "    model = Sequential()\n",
    "    model.add(Dense(128, input_shape=(n_words,), activation='relu'))\n",
    "    model.add(Dense(1, activation='sigmoid'))\n",
    "    # compile network\n",
    "    model.compile(loss='binary_crossentropy', optimizer='adam', metrics = ['accuracy'])\n",
    "    # summarize defined model\n",
    "    model.summary()\n",
    "    return model"
   ]
  },
  {
   "cell_type": "code",
   "execution_count": 17,
   "metadata": {},
   "outputs": [
    {
     "name": "stdout",
     "output_type": "stream",
     "text": [
      "Model: \"sequential\"\n",
      "_________________________________________________________________\n",
      " Layer (type)                Output Shape              Param #   \n",
      "=================================================================\n",
      " dense (Dense)               (None, 128)               1521408   \n",
      "                                                                 \n",
      " dense_1 (Dense)             (None, 1)                 129       \n",
      "                                                                 \n",
      "=================================================================\n",
      "Total params: 1,521,537\n",
      "Trainable params: 1,521,537\n",
      "Non-trainable params: 0\n",
      "_________________________________________________________________\n"
     ]
    }
   ],
   "source": [
    "# create the model\n",
    "n_words = X_train_set.shape[1]\n",
    "model = define_model(n_words)"
   ]
  },
  {
   "cell_type": "code",
   "execution_count": 18,
   "metadata": {},
   "outputs": [
    {
     "name": "stdout",
     "output_type": "stream",
     "text": [
      "Epoch 1/10\n",
      "191/191 - 3s - loss: 0.6272 - accuracy: 0.6680 - 3s/epoch - 16ms/step\n",
      "Epoch 2/10\n",
      "191/191 - 3s - loss: 0.4335 - accuracy: 0.8394 - 3s/epoch - 16ms/step\n",
      "Epoch 3/10\n",
      "191/191 - 3s - loss: 0.3128 - accuracy: 0.8860 - 3s/epoch - 13ms/step\n",
      "Epoch 4/10\n",
      "191/191 - 3s - loss: 0.2396 - accuracy: 0.9184 - 3s/epoch - 14ms/step\n",
      "Epoch 5/10\n",
      "191/191 - 3s - loss: 0.1874 - accuracy: 0.9407 - 3s/epoch - 14ms/step\n",
      "Epoch 6/10\n",
      "191/191 - 3s - loss: 0.1496 - accuracy: 0.9552 - 3s/epoch - 14ms/step\n",
      "Epoch 7/10\n",
      "191/191 - 2s - loss: 0.1215 - accuracy: 0.9635 - 2s/epoch - 13ms/step\n",
      "Epoch 8/10\n",
      "191/191 - 2s - loss: 0.1010 - accuracy: 0.9727 - 2s/epoch - 13ms/step\n",
      "Epoch 9/10\n",
      "191/191 - 2s - loss: 0.0849 - accuracy: 0.9749 - 2s/epoch - 13ms/step\n",
      "Epoch 10/10\n",
      "191/191 - 3s - loss: 0.0738 - accuracy: 0.9782 - 3s/epoch - 13ms/step\n"
     ]
    },
    {
     "data": {
      "text/plain": [
       "<keras.callbacks.History at 0x1e7687b18a0>"
      ]
     },
     "execution_count": 18,
     "metadata": {},
     "output_type": "execute_result"
    }
   ],
   "source": [
    "#fit network\n",
    "model.fit(X_train_set,y_train,epochs=10,verbose=2)"
   ]
  },
  {
   "cell_type": "code",
   "execution_count": 19,
   "metadata": {},
   "outputs": [
    {
     "name": "stdout",
     "output_type": "stream",
     "text": [
      "102/102 [==============================] - 0s 2ms/step\n"
     ]
    }
   ],
   "source": [
    "# prediction on the test dataset\n",
    "X_test = test_df.text\n",
    "X_test_set = tokenizer.texts_to_matrix(X_test, mode = 'freq')\n",
    "y_pred = model.predict(X_test_set)\n",
    "y_pred = list(map(lambda x: 1 if x>=0.5 else 0, y_pred))"
   ]
  },
  {
   "cell_type": "code",
   "execution_count": 20,
   "metadata": {},
   "outputs": [
    {
     "data": {
      "text/plain": [
       "0.7640208397180509"
      ]
     },
     "execution_count": 20,
     "metadata": {},
     "output_type": "execute_result"
    }
   ],
   "source": [
    "from sklearn.metrics import accuracy_score\n",
    "\n",
    "ans = pd.read_csv('./dataset/ans.csv')['target'].values\n",
    "accuracy_score(y_pred= y_pred, y_true= ans)"
   ]
  }
 ],
 "metadata": {
  "kernelspec": {
   "display_name": "Python 3",
   "language": "python",
   "name": "python3"
  },
  "language_info": {
   "codemirror_mode": {
    "name": "ipython",
    "version": 3
   },
   "file_extension": ".py",
   "mimetype": "text/x-python",
   "name": "python",
   "nbconvert_exporter": "python",
   "pygments_lexer": "ipython3",
   "version": "3.10.10"
  },
  "orig_nbformat": 4
 },
 "nbformat": 4,
 "nbformat_minor": 2
}
