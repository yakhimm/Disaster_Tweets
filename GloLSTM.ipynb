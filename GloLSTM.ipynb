{
 "cells": [
  {
   "cell_type": "code",
   "execution_count": 1,
   "metadata": {},
   "outputs": [],
   "source": [
    "#load libraries for data manipulation and visualization\n",
    "import pandas as pd\n",
    "import numpy as np\n",
    "\n",
    "# warnings\n",
    "import warnings\n",
    "warnings.filterwarnings('ignore')"
   ]
  },
  {
   "cell_type": "code",
   "execution_count": 2,
   "metadata": {},
   "outputs": [],
   "source": [
    "train_df = pd.read_csv('./preprocessing/train.csv')\n",
    "# train_df['text'] = train_df['text'].fillna('')\n",
    "test_df = pd.read_csv('./preprocessing/test.csv')\n",
    "# test_df['text'] = test_df['text'].fillna('')"
   ]
  },
  {
   "cell_type": "code",
   "execution_count": 3,
   "metadata": {},
   "outputs": [],
   "source": [
    "from sklearn.model_selection import train_test_split\n",
    "# split train set into train/validate \n",
    "train_df, val_df = train_test_split(train_df, test_size=0.1, random_state=0)\n",
    "train_df = train_df.reset_index(drop=True)\n",
    "val_df = val_df.reset_index(drop=True)"
   ]
  },
  {
   "cell_type": "code",
   "execution_count": 4,
   "metadata": {},
   "outputs": [],
   "source": [
    "import tensorflow as tf\n",
    "import matplotlib.pyplot as plt\n",
    "from tensorflow.keras.preprocessing.text import Tokenizer\n",
    "from tensorflow.keras.utils import pad_sequences\n",
    "from sklearn.model_selection import train_test_split"
   ]
  },
  {
   "cell_type": "code",
   "execution_count": 5,
   "metadata": {},
   "outputs": [],
   "source": [
    "# train and test sets\n",
    "all_df=pd.concat([train_df,test_df])\n",
    "X_all = all_df['text']\n",
    "# training set\n",
    "X_train = train_df['text']\n",
    "y_train = train_df['target'].astype(int)\n",
    "# validation set\n",
    "X_validate= val_df['text']\n",
    "y_validate = val_df['target'].astype(int)\n",
    "# test set\n",
    "X_test = test_df['text']"
   ]
  },
  {
   "cell_type": "code",
   "execution_count": 6,
   "metadata": {},
   "outputs": [
    {
     "name": "stdout",
     "output_type": "stream",
     "text": [
      "unique words are : 16141\n"
     ]
    }
   ],
   "source": [
    "from tensorflow.keras.preprocessing.text import Tokenizer\n",
    "# create a tokenizer for encoding texts as digits\n",
    "def create_tokenizer(lines):\n",
    "    tokenizer = Tokenizer()\n",
    "    tokenizer.fit_on_texts(lines)\n",
    "    return tokenizer\n",
    "# create the tokenizer - mapping data to integer values\n",
    "tokenizer = create_tokenizer(X_all)\n",
    "word_index=tokenizer.word_index\n",
    "max_words = len(word_index) + 1\n",
    "print( 'unique words are : %d' % max_words)"
   ]
  },
  {
   "cell_type": "code",
   "execution_count": 7,
   "metadata": {},
   "outputs": [
    {
     "name": "stdout",
     "output_type": "stream",
     "text": [
      " Maximum length: 25 \n"
     ]
    }
   ],
   "source": [
    "# tweet with maximum length\n",
    "max_length = max([len(s.split()) for s in X_all])\n",
    "print( ' Maximum length: %d ' % max_length)"
   ]
  },
  {
   "cell_type": "code",
   "execution_count": 8,
   "metadata": {},
   "outputs": [],
   "source": [
    "from tensorflow.keras.preprocessing.sequence import pad_sequences\n",
    "def encode_data(tokenizer, max_length, data):\n",
    "    # integer encode\n",
    "    encoded = tokenizer.texts_to_sequences(data)\n",
    "    # pad sequences\n",
    "    padded = pad_sequences(encoded, maxlen=max_length, padding= 'post' )\n",
    "    return padded\n",
    "Xtrain = encode_data(tokenizer, max_length, X_train)\n",
    "Xvalidate = encode_data(tokenizer, max_length, X_validate)\n",
    "Xtest = encode_data(tokenizer, max_length, X_test)"
   ]
  },
  {
   "cell_type": "code",
   "execution_count": 9,
   "metadata": {},
   "outputs": [
    {
     "name": "stdout",
     "output_type": "stream",
     "text": [
      "Found 400000 word vectors.\n"
     ]
    }
   ],
   "source": [
    "embeddings_index = {}\n",
    "with open('./dataset/glove.6B.300d.txt', 'r',encoding=\"utf8\") as f:\n",
    "    for line in f:\n",
    "        try:\n",
    "            values = line.split()\n",
    "            word = values[0]\n",
    "            coefs = np.asarray(values[1:], dtype='float32')\n",
    "            embeddings_index[word] = coefs\n",
    "        except:\n",
    "            continue\n",
    "print('Found %s word vectors.' % len(embeddings_index))"
   ]
  },
  {
   "cell_type": "code",
   "execution_count": 10,
   "metadata": {},
   "outputs": [],
   "source": [
    "# preparing the GloVe word-embeddings matrix\n",
    "embedding_dim = 300\n",
    "embedding_matrix = np.zeros((max_words, embedding_dim))\n",
    "for word, i in word_index.items():\n",
    "    if i < max_words:\n",
    "        embedding_vector = embeddings_index.get(word)\n",
    "        if embedding_vector is not None:\n",
    "            embedding_matrix[i] = embedding_vector"
   ]
  },
  {
   "cell_type": "code",
   "execution_count": 11,
   "metadata": {},
   "outputs": [
    {
     "name": "stdout",
     "output_type": "stream",
     "text": [
      "Model: \"sequential\"\n",
      "_________________________________________________________________\n",
      " Layer (type)                Output Shape              Param #   \n",
      "=================================================================\n",
      " embedding (Embedding)       (None, 25, 300)           4842300   \n",
      "                                                                 \n",
      " bidirectional (Bidirectiona  (None, 25, 128)          186880    \n",
      " l)                                                              \n",
      "                                                                 \n",
      " bidirectional_1 (Bidirectio  (None, 128)              98816     \n",
      " nal)                                                            \n",
      "                                                                 \n",
      " dense (Dense)               (None, 64)                8256      \n",
      "                                                                 \n",
      " dense_1 (Dense)             (None, 1)                 65        \n",
      "                                                                 \n",
      "=================================================================\n",
      "Total params: 5,136,317\n",
      "Trainable params: 5,136,317\n",
      "Non-trainable params: 0\n",
      "_________________________________________________________________\n"
     ]
    }
   ],
   "source": [
    "from tensorflow.keras.models import Sequential\n",
    "from tensorflow.keras.layers import Dense, Embedding\n",
    "import tensorflow.keras.optimizers as optimizers\n",
    "from tensorflow.keras.layers import LSTM, Bidirectional\n",
    "\n",
    "model = Sequential()\n",
    "model.add(Embedding(max_words, 300, input_length=max_length))\n",
    "# lstm layer\n",
    "model.add(Bidirectional(LSTM(64, dropout=0.2, recurrent_dropout=0.2, return_sequences=True)))   \n",
    "model.add(Bidirectional(LSTM(64,  dropout=0.2, recurrent_dropout=0.2,))) \n",
    "# densely connected classifier\n",
    "model.add(Dense(64, activation= 'relu' ))\n",
    "model.add(Dense(1, activation='sigmoid'))\n",
    "# summarize\n",
    "model.summary()"
   ]
  },
  {
   "cell_type": "code",
   "execution_count": 12,
   "metadata": {},
   "outputs": [],
   "source": [
    "# load pretrained word embeddings into the Embedding layer\n",
    "model.layers[0].set_weights([embedding_matrix])\n",
    "model.layers[0].trainable = True"
   ]
  },
  {
   "cell_type": "code",
   "execution_count": 13,
   "metadata": {},
   "outputs": [],
   "source": [
    "# compile\n",
    "model.compile(loss= 'binary_crossentropy',  optimizer=optimizers.Adam(learning_rate=.0001), metrics=[ 'accuracy' ])"
   ]
  },
  {
   "cell_type": "code",
   "execution_count": 14,
   "metadata": {},
   "outputs": [],
   "source": [
    "from tensorflow.keras.callbacks import EarlyStopping, ModelCheckpoint, ReduceLROnPlateau\n",
    "callbacks = [\n",
    "    EarlyStopping(patience=3, verbose=1),\n",
    "    ReduceLROnPlateau(factor=0.25, patience=2, min_lr=0.00001, verbose=1),\n",
    "    # ModelCheckpoint('model_lstm.h5', verbose=1, save_best_only=True, save_weights_only=True)\n",
    "]"
   ]
  },
  {
   "cell_type": "code",
   "execution_count": 15,
   "metadata": {},
   "outputs": [
    {
     "name": "stdout",
     "output_type": "stream",
     "text": [
      "Epoch 1/10\n",
      "215/215 [==============================] - 43s 165ms/step - loss: 0.5686 - accuracy: 0.7341 - val_loss: 0.4857 - val_accuracy: 0.7835 - lr: 1.0000e-04\n",
      "Epoch 2/10\n",
      "215/215 [==============================] - 33s 152ms/step - loss: 0.4315 - accuracy: 0.8135 - val_loss: 0.4670 - val_accuracy: 0.7979 - lr: 1.0000e-04\n",
      "Epoch 3/10\n",
      "215/215 [==============================] - 24s 110ms/step - loss: 0.3997 - accuracy: 0.8263 - val_loss: 0.4640 - val_accuracy: 0.8058 - lr: 1.0000e-04\n",
      "Epoch 4/10\n",
      "215/215 [==============================] - 23s 109ms/step - loss: 0.3763 - accuracy: 0.8401 - val_loss: 0.4616 - val_accuracy: 0.8058 - lr: 1.0000e-04\n",
      "Epoch 5/10\n",
      "215/215 [==============================] - 23s 109ms/step - loss: 0.3527 - accuracy: 0.8544 - val_loss: 0.4679 - val_accuracy: 0.8097 - lr: 1.0000e-04\n",
      "Epoch 6/10\n",
      "215/215 [==============================] - ETA: 0s - loss: 0.3277 - accuracy: 0.8673\n",
      "Epoch 6: ReduceLROnPlateau reducing learning rate to 2.499999936844688e-05.\n",
      "215/215 [==============================] - 23s 107ms/step - loss: 0.3277 - accuracy: 0.8673 - val_loss: 0.4899 - val_accuracy: 0.8031 - lr: 1.0000e-04\n",
      "Epoch 7/10\n",
      "215/215 [==============================] - 22s 105ms/step - loss: 0.2996 - accuracy: 0.8795 - val_loss: 0.5003 - val_accuracy: 0.8005 - lr: 2.5000e-05\n",
      "Epoch 7: early stopping\n"
     ]
    },
    {
     "data": {
      "text/plain": [
       "<keras.callbacks.History at 0x2722d10da20>"
      ]
     },
     "execution_count": 15,
     "metadata": {},
     "output_type": "execute_result"
    }
   ],
   "source": [
    "model.fit(Xtrain, y_train, epochs=10, callbacks=callbacks, validation_data=(Xvalidate,y_validate))"
   ]
  },
  {
   "cell_type": "code",
   "execution_count": 17,
   "metadata": {},
   "outputs": [
    {
     "name": "stdout",
     "output_type": "stream",
     "text": [
      "102/102 [==============================] - 2s 20ms/step\n"
     ]
    }
   ],
   "source": [
    "predictions = model.predict(Xtest)\n",
    "predictions = predictions.reshape(1,-1)\n",
    "predictions = predictions[0]\n",
    "predictions = list(map(lambda x: 1 if x>=0.5 else 0,predictions))"
   ]
  },
  {
   "cell_type": "code",
   "execution_count": 18,
   "metadata": {},
   "outputs": [
    {
     "data": {
      "text/plain": [
       "0.8026356114005516"
      ]
     },
     "execution_count": 18,
     "metadata": {},
     "output_type": "execute_result"
    }
   ],
   "source": [
    "from sklearn.metrics import accuracy_score\n",
    "\n",
    "ans = pd.read_csv('./dataset/ans.csv')['target'].values\n",
    "accuracy_score(y_pred= predictions, y_true= ans)"
   ]
  }
 ],
 "metadata": {
  "kernelspec": {
   "display_name": "Python 3",
   "language": "python",
   "name": "python3"
  },
  "language_info": {
   "codemirror_mode": {
    "name": "ipython",
    "version": 3
   },
   "file_extension": ".py",
   "mimetype": "text/x-python",
   "name": "python",
   "nbconvert_exporter": "python",
   "pygments_lexer": "ipython3",
   "version": "3.10.10"
  },
  "orig_nbformat": 4
 },
 "nbformat": 4,
 "nbformat_minor": 2
}
