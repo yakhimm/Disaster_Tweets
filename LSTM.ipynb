{
 "cells": [
  {
   "cell_type": "code",
   "execution_count": 1,
   "metadata": {},
   "outputs": [],
   "source": [
    "import numpy as np # linear algebra\n",
    "import pandas as pd\n",
    "\n",
    "import tensorflow as tf\n",
    "from tensorflow.keras.preprocessing.text import Tokenizer\n",
    "from tensorflow.keras.preprocessing.sequence import pad_sequences\n",
    "from keras.models import Sequential\n",
    "from keras.layers import Dense, Dropout\n",
    "from keras.layers import Embedding\n",
    "from keras.layers import LSTM\n",
    "from keras.layers import GlobalMaxPool1D\n",
    "from keras.layers import Bidirectional\n",
    "\n",
    "from sklearn.model_selection import train_test_split\n",
    "from sklearn.metrics import accuracy_score"
   ]
  },
  {
   "cell_type": "code",
   "execution_count": 2,
   "metadata": {},
   "outputs": [],
   "source": [
    "train_df = pd.read_csv('./preprocessing/train.csv')\n",
    "test_df = pd.read_csv('./preprocessing/test.csv')"
   ]
  },
  {
   "cell_type": "code",
   "execution_count": 3,
   "metadata": {},
   "outputs": [],
   "source": [
    "train_text = train_df.text.astype(str)\n",
    "test_text = test_df.text"
   ]
  },
  {
   "cell_type": "code",
   "execution_count": 4,
   "metadata": {},
   "outputs": [],
   "source": [
    "max_features = 5000\n",
    "tokens = Tokenizer(max_features)\n",
    "tokens.fit_on_texts(train_text)\n",
    "index_train = tokens.texts_to_sequences(train_text)\n",
    "index_test = tokens.texts_to_sequences(test_text)"
   ]
  },
  {
   "cell_type": "code",
   "execution_count": 5,
   "metadata": {},
   "outputs": [],
   "source": [
    "max_len = 200\n",
    "tr_x = pad_sequences(index_train,maxlen = 200)\n",
    "te_x = pad_sequences(index_test,maxlen = 200)"
   ]
  },
  {
   "cell_type": "code",
   "execution_count": 6,
   "metadata": {},
   "outputs": [
    {
     "name": "stdout",
     "output_type": "stream",
     "text": [
      "Model: \"sequential\"\n",
      "_________________________________________________________________\n",
      " Layer (type)                Output Shape              Param #   \n",
      "=================================================================\n",
      " embedding (Embedding)       (None, 200, 256)          1280000   \n",
      "                                                                 \n",
      " bidirectional (Bidirectiona  (None, 200, 512)         1050624   \n",
      " l)                                                              \n",
      "                                                                 \n",
      " global_max_pooling1d (Globa  (None, 512)              0         \n",
      " lMaxPooling1D)                                                  \n",
      "                                                                 \n",
      " dense (Dense)               (None, 150)               76950     \n",
      "                                                                 \n",
      " dropout (Dropout)           (None, 150)               0         \n",
      "                                                                 \n",
      " dense_1 (Dense)             (None, 2)                 302       \n",
      "                                                                 \n",
      "=================================================================\n",
      "Total params: 2,407,876\n",
      "Trainable params: 2,407,876\n",
      "Non-trainable params: 0\n",
      "_________________________________________________________________\n"
     ]
    }
   ],
   "source": [
    "model = Sequential()\n",
    "model.add(Embedding(input_dim = 5000,output_dim = 256,input_length = 200))\n",
    "model.add(Bidirectional(LSTM(256,return_sequences=True)))\n",
    "model.add(GlobalMaxPool1D())\n",
    "model.add(Dense(150,activation='relu'))\n",
    "model.add(Dropout(0.5))\n",
    "model.add(Dense(2,activation='sigmoid'))\n",
    "\n",
    "model.summary()"
   ]
  },
  {
   "cell_type": "code",
   "execution_count": 7,
   "metadata": {},
   "outputs": [],
   "source": [
    "import tensorflow.keras.optimizers as optimizers\n",
    "\n",
    "model.compile(loss= 'binary_crossentropy',  optimizer=optimizers.Adam(learning_rate=.0001), metrics=[ 'accuracy' ])"
   ]
  },
  {
   "cell_type": "code",
   "execution_count": 8,
   "metadata": {},
   "outputs": [],
   "source": [
    "from tensorflow.keras.callbacks import EarlyStopping, ModelCheckpoint, ReduceLROnPlateau\n",
    "callbacks = [\n",
    "    EarlyStopping(patience=3, verbose=1),\n",
    "    ReduceLROnPlateau(factor=0.25, patience=2, min_lr=0.00001, verbose=1),\n",
    "    # ModelCheckpoint('model_lstm.h5', verbose=1, save_best_only=True, save_weights_only=True)\n",
    "]"
   ]
  },
  {
   "cell_type": "code",
   "execution_count": 9,
   "metadata": {},
   "outputs": [],
   "source": [
    "from keras.utils import to_categorical\n",
    "\n",
    "X = tr_x\n",
    "y = train_df.target\n",
    "y = to_categorical(y)\n",
    "\n",
    "X_train, X_val, y_train, y_val = train_test_split(X, y, test_size = 0.2, random_state = 42)"
   ]
  },
  {
   "cell_type": "code",
   "execution_count": 10,
   "metadata": {},
   "outputs": [
    {
     "name": "stdout",
     "output_type": "stream",
     "text": [
      "Epoch 1/10\n",
      "186/186 [==============================] - 315s 2s/step - loss: 0.6823 - accuracy: 0.5692 - val_loss: 0.6698 - val_accuracy: 0.5730 - lr: 1.0000e-04\n",
      "Epoch 2/10\n",
      "186/186 [==============================] - 327s 2s/step - loss: 0.6141 - accuracy: 0.6976 - val_loss: 0.5034 - val_accuracy: 0.7781 - lr: 1.0000e-04\n",
      "Epoch 3/10\n",
      "186/186 [==============================] - 326s 2s/step - loss: 0.4065 - accuracy: 0.8336 - val_loss: 0.4923 - val_accuracy: 0.7956 - lr: 1.0000e-04\n",
      "Epoch 4/10\n",
      "186/186 [==============================] - 319s 2s/step - loss: 0.3383 - accuracy: 0.8693 - val_loss: 0.4855 - val_accuracy: 0.7929 - lr: 1.0000e-04\n",
      "Epoch 5/10\n",
      "186/186 [==============================] - 318s 2s/step - loss: 0.2820 - accuracy: 0.8987 - val_loss: 0.5016 - val_accuracy: 0.7909 - lr: 1.0000e-04\n",
      "Epoch 6/10\n",
      "186/186 [==============================] - ETA: 0s - loss: 0.2460 - accuracy: 0.9146\n",
      "Epoch 6: ReduceLROnPlateau reducing learning rate to 2.499999936844688e-05.\n",
      "186/186 [==============================] - 302s 2s/step - loss: 0.2460 - accuracy: 0.9146 - val_loss: 0.5684 - val_accuracy: 0.7821 - lr: 1.0000e-04\n",
      "Epoch 7/10\n",
      "186/186 [==============================] - 302s 2s/step - loss: 0.2035 - accuracy: 0.9314 - val_loss: 0.5900 - val_accuracy: 0.7861 - lr: 2.5000e-05\n",
      "Epoch 7: early stopping\n"
     ]
    },
    {
     "data": {
      "text/plain": [
       "<keras.callbacks.History at 0x2445ca514b0>"
      ]
     },
     "execution_count": 10,
     "metadata": {},
     "output_type": "execute_result"
    }
   ],
   "source": [
    "model.fit(X_train, y_train, epochs=10, callbacks=callbacks, validation_data=(X_val,y_val))"
   ]
  },
  {
   "cell_type": "code",
   "execution_count": 11,
   "metadata": {},
   "outputs": [
    {
     "name": "stdout",
     "output_type": "stream",
     "text": [
      "102/102 [==============================] - 36s 343ms/step\n"
     ]
    }
   ],
   "source": [
    "predictions = model.predict(te_x)\n",
    "y_pred = predictions.argmax(axis = 1)"
   ]
  },
  {
   "cell_type": "code",
   "execution_count": 12,
   "metadata": {},
   "outputs": [
    {
     "data": {
      "text/plain": [
       "0.7894575543977934"
      ]
     },
     "execution_count": 12,
     "metadata": {},
     "output_type": "execute_result"
    }
   ],
   "source": [
    "from sklearn.metrics import accuracy_score\n",
    "\n",
    "ans = pd.read_csv('./dataset/ans.csv')['target'].values\n",
    "accuracy_score(y_pred= y_pred, y_true= ans)"
   ]
  }
 ],
 "metadata": {
  "kernelspec": {
   "display_name": "Python 3",
   "language": "python",
   "name": "python3"
  },
  "language_info": {
   "codemirror_mode": {
    "name": "ipython",
    "version": 3
   },
   "file_extension": ".py",
   "mimetype": "text/x-python",
   "name": "python",
   "nbconvert_exporter": "python",
   "pygments_lexer": "ipython3",
   "version": "3.10.10"
  },
  "orig_nbformat": 4
 },
 "nbformat": 4,
 "nbformat_minor": 2
}
