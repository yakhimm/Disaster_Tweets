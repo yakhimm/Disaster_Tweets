{
 "cells": [
  {
   "cell_type": "code",
   "execution_count": 86,
   "metadata": {},
   "outputs": [
    {
     "data": {
      "text/plain": [
       "[]"
      ]
     },
     "execution_count": 86,
     "metadata": {},
     "output_type": "execute_result"
    }
   ],
   "source": [
    "import numpy as np # linear algebra\n",
    "import pandas as pd\n",
    "\n",
    "import tensorflow as tf\n",
    "from tensorflow.keras.preprocessing.text import Tokenizer\n",
    "from tensorflow.keras.preprocessing.sequence import pad_sequences\n",
    "from tensorflow.keras.models import Sequential\n",
    "from tensorflow.keras.layers import Embedding\n",
    "from tensorflow.keras.initializers import Constant\n",
    "from tensorflow.keras.callbacks import EarlyStopping\n",
    "\n",
    "from sklearn.model_selection import train_test_split\n",
    "from sklearn.metrics import confusion_matrix,classification_report\n",
    "\n",
    "import matplotlib.pyplot as plt\n",
    "import seaborn as sns\n",
    "\n",
    "# run GPU\n",
    "import tensorflow as tf\n",
    "tf.config.list_physical_devices('GPU')"
   ]
  },
  {
   "cell_type": "code",
   "execution_count": 87,
   "metadata": {},
   "outputs": [],
   "source": [
    "df = pd.read_csv('./preprocessing/train.csv')\n",
    "# df_train['text'] = df_train['text'].fillna('na')\n",
    "\n",
    "df_test = pd.read_csv('./preprocessing/test.csv')\n",
    "# df_test['text'] = df_test['text'].fillna('na')"
   ]
  },
  {
   "cell_type": "code",
   "execution_count": 88,
   "metadata": {},
   "outputs": [],
   "source": [
    "x_train,x_val,y_train,y_val=train_test_split(df['text'].values,df['target'].values,test_size=0.2,random_state=123)"
   ]
  },
  {
   "cell_type": "code",
   "execution_count": 89,
   "metadata": {},
   "outputs": [],
   "source": [
    "tokenizer = Tokenizer(num_words=None)\n",
    "tokenizer.fit_on_texts(x_train)\n",
    "\n",
    "word_index = tokenizer.word_index\n",
    "num_words = len(tokenizer.word_index) + 1"
   ]
  },
  {
   "cell_type": "code",
   "execution_count": 90,
   "metadata": {},
   "outputs": [],
   "source": [
    "train_sequences = tokenizer.texts_to_sequences(x_train)\n",
    "train_padded = tf.keras.preprocessing.sequence.pad_sequences(train_sequences,padding='post')\n",
    "\n",
    "max_len = len(train_padded[0])\n",
    "\n",
    "validation_sequences = tokenizer.texts_to_sequences(x_val)\n",
    "validation_padded = tf.keras.preprocessing.sequence.pad_sequences(validation_sequences,padding='post',maxlen=max_len)\n",
    "\n",
    "x_test = df_test['text']\n",
    "test_sequences = tokenizer.texts_to_sequences(x_test)\n",
    "test_padded = tf.keras.preprocessing.sequence.pad_sequences(test_sequences,padding='post',maxlen=max_len)"
   ]
  },
  {
   "cell_type": "code",
   "execution_count": 91,
   "metadata": {},
   "outputs": [],
   "source": [
    "model = tf.keras.Sequential([\n",
    "tf.keras.layers.Embedding(num_words, 100,mask_zero=True),\n",
    "#tf.keras.layers.LSTM(64),\n",
    "tf.keras.layers.Bidirectional(tf.keras.layers.LSTM(64,recurrent_dropout=0.1)),\n",
    "tf.keras.layers.Dense(64, activation='relu'),\n",
    "tf.keras.layers.Dense(1, activation='sigmoid')\n",
    "])"
   ]
  },
  {
   "cell_type": "code",
   "execution_count": 92,
   "metadata": {},
   "outputs": [],
   "source": [
    "model.compile(loss='binary_crossentropy',optimizer=tf.keras.optimizers.Adam(1e-4),metrics=['accuracy'])"
   ]
  },
  {
   "cell_type": "code",
   "execution_count": 93,
   "metadata": {},
   "outputs": [
    {
     "name": "stdout",
     "output_type": "stream",
     "text": [
      "Model: \"sequential_4\"\n",
      "_________________________________________________________________\n",
      " Layer (type)                Output Shape              Param #   \n",
      "=================================================================\n",
      " embedding_4 (Embedding)     (None, None, 100)         1541800   \n",
      "                                                                 \n",
      " bidirectional_4 (Bidirectio  (None, 128)              84480     \n",
      " nal)                                                            \n",
      "                                                                 \n",
      " dense_8 (Dense)             (None, 64)                8256      \n",
      "                                                                 \n",
      " dense_9 (Dense)             (None, 1)                 65        \n",
      "                                                                 \n",
      "=================================================================\n",
      "Total params: 1,634,601\n",
      "Trainable params: 1,634,601\n",
      "Non-trainable params: 0\n",
      "_________________________________________________________________\n"
     ]
    }
   ],
   "source": [
    "model.summary()"
   ]
  },
  {
   "cell_type": "code",
   "execution_count": 94,
   "metadata": {},
   "outputs": [],
   "source": [
    "num_epochs = 30"
   ]
  },
  {
   "cell_type": "code",
   "execution_count": 95,
   "metadata": {},
   "outputs": [
    {
     "name": "stdout",
     "output_type": "stream",
     "text": [
      "Epoch 1/30\n",
      "191/191 - 11s - loss: 0.6859 - accuracy: 0.5668 - val_loss: 0.6686 - val_accuracy: 0.6244 - 11s/epoch - 57ms/step\n",
      "Epoch 2/30\n",
      "191/191 - 6s - loss: 0.5341 - accuracy: 0.7741 - val_loss: 0.4944 - val_accuracy: 0.8004 - 6s/epoch - 32ms/step\n",
      "Epoch 3/30\n",
      "191/191 - 6s - loss: 0.3215 - accuracy: 0.8852 - val_loss: 0.4998 - val_accuracy: 0.7945 - 6s/epoch - 33ms/step\n",
      "Epoch 4/30\n",
      "191/191 - 7s - loss: 0.2216 - accuracy: 0.9305 - val_loss: 0.5442 - val_accuracy: 0.7945 - 7s/epoch - 35ms/step\n",
      "Epoch 5/30\n",
      "191/191 - 7s - loss: 0.1590 - accuracy: 0.9524 - val_loss: 0.6180 - val_accuracy: 0.7899 - 7s/epoch - 38ms/step\n",
      "Epoch 6/30\n",
      "191/191 - 7s - loss: 0.1188 - accuracy: 0.9645 - val_loss: 0.6839 - val_accuracy: 0.7840 - 7s/epoch - 35ms/step\n",
      "Epoch 7/30\n",
      "191/191 - 7s - loss: 0.0936 - accuracy: 0.9729 - val_loss: 0.7514 - val_accuracy: 0.7774 - 7s/epoch - 36ms/step\n",
      "Epoch 8/30\n",
      "191/191 - 7s - loss: 0.0781 - accuracy: 0.9767 - val_loss: 0.8094 - val_accuracy: 0.7708 - 7s/epoch - 36ms/step\n",
      "Epoch 9/30\n",
      "191/191 - 7s - loss: 0.0685 - accuracy: 0.9780 - val_loss: 0.8568 - val_accuracy: 0.7669 - 7s/epoch - 37ms/step\n",
      "Epoch 10/30\n",
      "191/191 - 7s - loss: 0.0594 - accuracy: 0.9803 - val_loss: 0.9184 - val_accuracy: 0.7708 - 7s/epoch - 36ms/step\n",
      "Epoch 11/30\n",
      "191/191 - 7s - loss: 0.0543 - accuracy: 0.9810 - val_loss: 0.9601 - val_accuracy: 0.7708 - 7s/epoch - 36ms/step\n",
      "Epoch 12/30\n",
      "191/191 - 7s - loss: 0.0493 - accuracy: 0.9819 - val_loss: 1.0256 - val_accuracy: 0.7643 - 7s/epoch - 39ms/step\n",
      "Epoch 13/30\n",
      "191/191 - 7s - loss: 0.0432 - accuracy: 0.9842 - val_loss: 1.0759 - val_accuracy: 0.7636 - 7s/epoch - 38ms/step\n",
      "Epoch 14/30\n",
      "191/191 - 7s - loss: 0.0438 - accuracy: 0.9829 - val_loss: 1.0952 - val_accuracy: 0.7623 - 7s/epoch - 39ms/step\n",
      "Epoch 15/30\n",
      "191/191 - 7s - loss: 0.0403 - accuracy: 0.9831 - val_loss: 1.1502 - val_accuracy: 0.7597 - 7s/epoch - 38ms/step\n",
      "Epoch 16/30\n",
      "191/191 - 7s - loss: 0.0396 - accuracy: 0.9836 - val_loss: 1.2099 - val_accuracy: 0.7603 - 7s/epoch - 37ms/step\n",
      "Epoch 17/30\n",
      "191/191 - 7s - loss: 0.0389 - accuracy: 0.9842 - val_loss: 1.1477 - val_accuracy: 0.7676 - 7s/epoch - 36ms/step\n",
      "Epoch 18/30\n",
      "191/191 - 7s - loss: 0.0386 - accuracy: 0.9833 - val_loss: 1.2017 - val_accuracy: 0.7643 - 7s/epoch - 36ms/step\n",
      "Epoch 19/30\n",
      "191/191 - 7s - loss: 0.0340 - accuracy: 0.9854 - val_loss: 1.2454 - val_accuracy: 0.7649 - 7s/epoch - 38ms/step\n",
      "Epoch 20/30\n",
      "191/191 - 7s - loss: 0.0329 - accuracy: 0.9852 - val_loss: 1.2934 - val_accuracy: 0.7649 - 7s/epoch - 37ms/step\n",
      "Epoch 21/30\n",
      "191/191 - 7s - loss: 0.0318 - accuracy: 0.9846 - val_loss: 1.3257 - val_accuracy: 0.7643 - 7s/epoch - 36ms/step\n",
      "Epoch 22/30\n",
      "191/191 - 7s - loss: 0.0309 - accuracy: 0.9851 - val_loss: 1.3494 - val_accuracy: 0.7617 - 7s/epoch - 36ms/step\n",
      "Epoch 23/30\n",
      "191/191 - 7s - loss: 0.0304 - accuracy: 0.9852 - val_loss: 1.3745 - val_accuracy: 0.7597 - 7s/epoch - 35ms/step\n",
      "Epoch 24/30\n",
      "191/191 - 7s - loss: 0.0306 - accuracy: 0.9856 - val_loss: 1.4027 - val_accuracy: 0.7584 - 7s/epoch - 35ms/step\n",
      "Epoch 25/30\n",
      "191/191 - 7s - loss: 0.0297 - accuracy: 0.9842 - val_loss: 1.4406 - val_accuracy: 0.7617 - 7s/epoch - 35ms/step\n",
      "Epoch 26/30\n",
      "191/191 - 7s - loss: 0.0283 - accuracy: 0.9857 - val_loss: 1.4659 - val_accuracy: 0.7571 - 7s/epoch - 36ms/step\n",
      "Epoch 27/30\n",
      "191/191 - 7s - loss: 0.0287 - accuracy: 0.9851 - val_loss: 1.5163 - val_accuracy: 0.7610 - 7s/epoch - 36ms/step\n",
      "Epoch 28/30\n",
      "191/191 - 7s - loss: 0.0277 - accuracy: 0.9852 - val_loss: 1.5602 - val_accuracy: 0.7623 - 7s/epoch - 35ms/step\n",
      "Epoch 29/30\n",
      "191/191 - 7s - loss: 0.0271 - accuracy: 0.9856 - val_loss: 1.6008 - val_accuracy: 0.7590 - 7s/epoch - 35ms/step\n",
      "Epoch 30/30\n",
      "191/191 - 7s - loss: 0.0334 - accuracy: 0.9837 - val_loss: 1.6388 - val_accuracy: 0.7571 - 7s/epoch - 35ms/step\n"
     ]
    }
   ],
   "source": [
    "history = model.fit(train_padded, y_train, epochs=num_epochs,validation_data=(validation_padded, y_val), verbose=2)"
   ]
  },
  {
   "cell_type": "code",
   "execution_count": 99,
   "metadata": {},
   "outputs": [
    {
     "name": "stdout",
     "output_type": "stream",
     "text": [
      "102/102 [==============================] - 1s 6ms/step\n"
     ]
    }
   ],
   "source": [
    "y_pred = model.predict(test_padded)\n",
    "y_pred = list(map(lambda x: 1 if x >= 0.5 else 0, y_pred))"
   ]
  },
  {
   "cell_type": "code",
   "execution_count": 97,
   "metadata": {},
   "outputs": [],
   "source": [
    "# predictions = model.predict(data_test)\n",
    "# predictions = predictions.reshape(1,-1)\n",
    "# predictions = predictions[0]\n",
    "# predictions = list(map(lambda x: 1 if x>=0.5 else 0,predictions))"
   ]
  },
  {
   "cell_type": "code",
   "execution_count": 100,
   "metadata": {},
   "outputs": [
    {
     "data": {
      "text/plain": [
       "0.7581979773214833"
      ]
     },
     "execution_count": 100,
     "metadata": {},
     "output_type": "execute_result"
    }
   ],
   "source": [
    "from sklearn.metrics import accuracy_score\n",
    "\n",
    "ans = pd.read_csv('./dataset/ans.csv')['target'].values\n",
    "# accuracy_score(y_pred= predictions, y_true= ans)\n",
    "accuracy_score(y_pred= y_pred, y_true= ans)"
   ]
  }
 ],
 "metadata": {
  "kernelspec": {
   "display_name": "Python 3",
   "language": "python",
   "name": "python3"
  },
  "language_info": {
   "codemirror_mode": {
    "name": "ipython",
    "version": 3
   },
   "file_extension": ".py",
   "mimetype": "text/x-python",
   "name": "python",
   "nbconvert_exporter": "python",
   "pygments_lexer": "ipython3",
   "version": "3.10.10"
  },
  "orig_nbformat": 4
 },
 "nbformat": 4,
 "nbformat_minor": 2
}
