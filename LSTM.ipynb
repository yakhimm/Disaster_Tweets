{
 "cells": [
  {
   "cell_type": "code",
   "execution_count": 70,
   "metadata": {},
   "outputs": [],
   "source": [
    "import numpy as np # linear algebra\n",
    "import pandas as pd\n",
    "\n",
    "import tensorflow as tf\n",
    "from tensorflow.keras.preprocessing.text import Tokenizer\n",
    "from tensorflow.keras.preprocessing.sequence import pad_sequences\n",
    "from keras.models import Sequential\n",
    "from keras.layers import Dense, Dropout\n",
    "from keras.layers import Embedding\n",
    "from keras.layers import LSTM\n",
    "from keras.layers import GlobalMaxPool1D\n",
    "from keras.layers import Bidirectional\n",
    "\n",
    "from sklearn.model_selection import train_test_split\n",
    "from sklearn.metrics import accuracy_score"
   ]
  },
  {
   "cell_type": "code",
   "execution_count": 71,
   "metadata": {},
   "outputs": [],
   "source": [
    "train_df = pd.read_csv('./preprocessing/train.csv')\n",
    "test_df = pd.read_csv('./preprocessing/test.csv')"
   ]
  },
  {
   "cell_type": "code",
   "execution_count": 72,
   "metadata": {},
   "outputs": [],
   "source": [
    "train_text = train_df.text\n",
    "test_text = test_df.text"
   ]
  },
  {
   "cell_type": "code",
   "execution_count": 73,
   "metadata": {},
   "outputs": [],
   "source": [
    "max_features = 5000\n",
    "tokens = Tokenizer(max_features)\n",
    "tokens.fit_on_texts(train_text)\n",
    "index_train = tokens.texts_to_sequences(train_text)\n",
    "index_test = tokens.texts_to_sequences(test_text)"
   ]
  },
  {
   "cell_type": "code",
   "execution_count": 74,
   "metadata": {},
   "outputs": [],
   "source": [
    "max_len = 200\n",
    "tr_x = pad_sequences(index_train,maxlen = 200)\n",
    "te_x = pad_sequences(index_test,maxlen = 200)"
   ]
  },
  {
   "cell_type": "code",
   "execution_count": 75,
   "metadata": {},
   "outputs": [
    {
     "name": "stdout",
     "output_type": "stream",
     "text": [
      "Model: \"sequential_6\"\n",
      "_________________________________________________________________\n",
      " Layer (type)                Output Shape              Param #   \n",
      "=================================================================\n",
      " embedding_6 (Embedding)     (None, 200, 256)          1280000   \n",
      "                                                                 \n",
      " bidirectional_6 (Bidirectio  (None, 200, 512)         1050624   \n",
      " nal)                                                            \n",
      "                                                                 \n",
      " global_max_pooling1d_6 (Glo  (None, 512)              0         \n",
      " balMaxPooling1D)                                                \n",
      "                                                                 \n",
      " dense_12 (Dense)            (None, 150)               76950     \n",
      "                                                                 \n",
      " dropout_6 (Dropout)         (None, 150)               0         \n",
      "                                                                 \n",
      " dense_13 (Dense)            (None, 2)                 302       \n",
      "                                                                 \n",
      "=================================================================\n",
      "Total params: 2,407,876\n",
      "Trainable params: 2,407,876\n",
      "Non-trainable params: 0\n",
      "_________________________________________________________________\n"
     ]
    }
   ],
   "source": [
    "model = Sequential()\n",
    "model.add(Embedding(input_dim = 5000,output_dim = 256,input_length = 200))\n",
    "model.add(Bidirectional(LSTM(256,return_sequences=True)))\n",
    "model.add(GlobalMaxPool1D())\n",
    "model.add(Dense(150,activation='relu'))\n",
    "model.add(Dropout(0.5))\n",
    "model.add(Dense(2,activation='sigmoid'))\n",
    "\n",
    "model.summary()"
   ]
  },
  {
   "cell_type": "code",
   "execution_count": 76,
   "metadata": {},
   "outputs": [],
   "source": [
    "import tensorflow.keras.optimizers as optimizers\n",
    "\n",
    "model.compile(loss= 'binary_crossentropy',  optimizer=optimizers.Adam(learning_rate=.0001), metrics=[ 'accuracy' ])"
   ]
  },
  {
   "cell_type": "code",
   "execution_count": 77,
   "metadata": {},
   "outputs": [],
   "source": [
    "from tensorflow.keras.callbacks import EarlyStopping, ModelCheckpoint, ReduceLROnPlateau\n",
    "callbacks = [\n",
    "    EarlyStopping(patience=3, verbose=1),\n",
    "    ReduceLROnPlateau(factor=0.25, patience=2, min_lr=0.00001, verbose=1),\n",
    "    # ModelCheckpoint('model_lstm.h5', verbose=1, save_best_only=True, save_weights_only=True)\n",
    "]"
   ]
  },
  {
   "cell_type": "code",
   "execution_count": 78,
   "metadata": {},
   "outputs": [],
   "source": [
    "from keras.utils import to_categorical\n",
    "\n",
    "X = tr_x\n",
    "y = train_df.target\n",
    "y = to_categorical(y)\n",
    "\n",
    "X_train, X_val, y_train, y_val = train_test_split(X, y, test_size = 0.2, random_state = 42)"
   ]
  },
  {
   "cell_type": "code",
   "execution_count": 79,
   "metadata": {},
   "outputs": [
    {
     "name": "stdout",
     "output_type": "stream",
     "text": [
      "Epoch 1/10\n",
      "191/191 [==============================] - 429s 2s/step - loss: 0.6826 - accuracy: 0.5701 - val_loss: 0.6698 - val_accuracy: 0.5752 - lr: 1.0000e-04\n",
      "Epoch 2/10\n",
      "191/191 [==============================] - 369s 2s/step - loss: 0.5663 - accuracy: 0.7278 - val_loss: 0.4737 - val_accuracy: 0.7859 - lr: 1.0000e-04\n",
      "Epoch 3/10\n",
      "191/191 [==============================] - 375s 2s/step - loss: 0.4217 - accuracy: 0.8108 - val_loss: 0.4901 - val_accuracy: 0.7768 - lr: 1.0000e-04\n",
      "Epoch 4/10\n",
      "191/191 [==============================] - 347s 2s/step - loss: 0.3490 - accuracy: 0.8594 - val_loss: 0.4705 - val_accuracy: 0.7951 - lr: 1.0000e-04\n",
      "Epoch 5/10\n",
      "191/191 [==============================] - 345s 2s/step - loss: 0.2786 - accuracy: 0.8911 - val_loss: 0.5372 - val_accuracy: 0.7879 - lr: 1.0000e-04\n",
      "Epoch 6/10\n",
      "191/191 [==============================] - ETA: 0s - loss: 0.2435 - accuracy: 0.9102\n",
      "Epoch 6: ReduceLROnPlateau reducing learning rate to 2.499999936844688e-05.\n",
      "191/191 [==============================] - 379s 2s/step - loss: 0.2435 - accuracy: 0.9102 - val_loss: 0.5298 - val_accuracy: 0.7623 - lr: 1.0000e-04\n",
      "Epoch 7/10\n",
      "191/191 [==============================] - 351s 2s/step - loss: 0.1957 - accuracy: 0.9318 - val_loss: 0.5964 - val_accuracy: 0.7656 - lr: 2.5000e-05\n",
      "Epoch 7: early stopping\n"
     ]
    },
    {
     "data": {
      "text/plain": [
       "<keras.callbacks.History at 0x2785e7b33d0>"
      ]
     },
     "execution_count": 79,
     "metadata": {},
     "output_type": "execute_result"
    }
   ],
   "source": [
    "model.fit(X_train, y_train, epochs=10, callbacks=callbacks, validation_data=(X_val,y_val))"
   ]
  },
  {
   "cell_type": "code",
   "execution_count": 92,
   "metadata": {},
   "outputs": [
    {
     "name": "stdout",
     "output_type": "stream",
     "text": [
      "102/102 [==============================] - 28s 274ms/step\n"
     ]
    }
   ],
   "source": [
    "predictions = model.predict(te_x)\n",
    "y_pred = predictions.argmax(axis = 1)"
   ]
  },
  {
   "cell_type": "code",
   "execution_count": 101,
   "metadata": {},
   "outputs": [
    {
     "data": {
      "text/plain": [
       "0.7704566349984676"
      ]
     },
     "execution_count": 101,
     "metadata": {},
     "output_type": "execute_result"
    }
   ],
   "source": [
    "from sklearn.metrics import accuracy_score\n",
    "\n",
    "ans = pd.read_csv('./dataset/ans.csv')['target'].values\n",
    "accuracy_score(y_pred= y_pred, y_true= ans)"
   ]
  }
 ],
 "metadata": {
  "kernelspec": {
   "display_name": "Python 3",
   "language": "python",
   "name": "python3"
  },
  "language_info": {
   "codemirror_mode": {
    "name": "ipython",
    "version": 3
   },
   "file_extension": ".py",
   "mimetype": "text/x-python",
   "name": "python",
   "nbconvert_exporter": "python",
   "pygments_lexer": "ipython3",
   "version": "3.10.10"
  },
  "orig_nbformat": 4
 },
 "nbformat": 4,
 "nbformat_minor": 2
}
